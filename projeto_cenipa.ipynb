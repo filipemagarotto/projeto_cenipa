{
  "nbformat": 4,
  "nbformat_minor": 0,
  "metadata": {
    "colab": {
      "name": "projeto_cenipa.ipynb",
      "provenance": [],
      "collapsed_sections": [
        "aDeGTuhdRr43"
      ],
      "include_colab_link": true
    },
    "kernelspec": {
      "name": "python3",
      "display_name": "Python 3"
    },
    "language_info": {
      "name": "python"
    }
  },
  "cells": [
    {
      "cell_type": "markdown",
      "metadata": {
        "id": "view-in-github",
        "colab_type": "text"
      },
      "source": [
        "<a href=\"https://colab.research.google.com/github/filipemagarotto/projeto_cenipa/blob/master/projeto_cenipa.ipynb\" target=\"_parent\"><img src=\"https://colab.research.google.com/assets/colab-badge.svg\" alt=\"Open In Colab\"/></a>"
      ]
    },
    {
      "cell_type": "markdown",
      "metadata": {
        "id": "VmQkOzWfezIH"
      },
      "source": [
        "# **Variável de análise: <font color='Lime'>tipo</font>**"
      ]
    },
    {
      "cell_type": "code",
      "metadata": {
        "colab": {
          "base_uri": "https://localhost:8080/",
          "height": 400
        },
        "id": "13lERGBycs1F",
        "outputId": "a2d919d7-ee7e-49cf-e994-1f4233dd6418"
      },
      "source": [
        "import pandas as pd \n",
        "import seaborn as sns\n",
        "from collections import Counter\n",
        "import matplotlib.pyplot as plt\n",
        "import numpy as np \n",
        "import statistics as sts\n",
        "\n",
        "cenipaOcorrencias = pd.read_csv(\"/content/ocorrencias_cenipa.csv\", sep = ';', encoding='ISO-8859-1')\n",
        "cenipaOcorrencias.head()"
      ],
      "execution_count": null,
      "outputs": [
        {
          "output_type": "execute_result",
          "data": {
            "text/html": [
              "<div>\n",
              "<style scoped>\n",
              "    .dataframe tbody tr th:only-of-type {\n",
              "        vertical-align: middle;\n",
              "    }\n",
              "\n",
              "    .dataframe tbody tr th {\n",
              "        vertical-align: top;\n",
              "    }\n",
              "\n",
              "    .dataframe thead th {\n",
              "        text-align: right;\n",
              "    }\n",
              "</style>\n",
              "<table border=\"1\" class=\"dataframe\">\n",
              "  <thead>\n",
              "    <tr style=\"text-align: right;\">\n",
              "      <th></th>\n",
              "      <th>codigo</th>\n",
              "      <th>tipo</th>\n",
              "      <th>descricao</th>\n",
              "      <th>cidade</th>\n",
              "      <th>estado</th>\n",
              "      <th>data</th>\n",
              "      <th>ano</th>\n",
              "      <th>hora</th>\n",
              "      <th>aeronave_liberada</th>\n",
              "      <th>status_investigacao</th>\n",
              "      <th>aeronaves_envolvidas</th>\n",
              "      <th>ocorrencia_saida_pista</th>\n",
              "      <th>aeronave_tipo</th>\n",
              "      <th>aeronave_fabricante</th>\n",
              "      <th>motor_tipo</th>\n",
              "      <th>aeronave_motor_quantidade</th>\n",
              "      <th>aeronave_assentos</th>\n",
              "      <th>aeronave_ano_fabricacao</th>\n",
              "      <th>aeronave_pais_fabricante</th>\n",
              "      <th>aeronave_fase_operacao</th>\n",
              "      <th>aeronave_nivel_dano</th>\n",
              "    </tr>\n",
              "  </thead>\n",
              "  <tbody>\n",
              "    <tr>\n",
              "      <th>0</th>\n",
              "      <td>40107</td>\n",
              "      <td>ACIDENTE</td>\n",
              "      <td>COLISÃO COM OBSTÁCULO DURANTE A DECOLAGEM E POUSO</td>\n",
              "      <td>GURUPÁ</td>\n",
              "      <td>PA</td>\n",
              "      <td>12/01/2010</td>\n",
              "      <td>2010</td>\n",
              "      <td>14:30:00</td>\n",
              "      <td>SIM</td>\n",
              "      <td>FINALIZADA</td>\n",
              "      <td>1</td>\n",
              "      <td>NÃO</td>\n",
              "      <td>AVIÃO</td>\n",
              "      <td>NEIVA INDUSTRIA AERONAUTICA</td>\n",
              "      <td>PISTÃO</td>\n",
              "      <td>MONOMOTOR</td>\n",
              "      <td>7</td>\n",
              "      <td>1977</td>\n",
              "      <td>BRASIL</td>\n",
              "      <td>POUSO</td>\n",
              "      <td>LEVE</td>\n",
              "    </tr>\n",
              "    <tr>\n",
              "      <th>1</th>\n",
              "      <td>40147</td>\n",
              "      <td>ACIDENTE</td>\n",
              "      <td>FALHA OU MAU FUNCIONAMENTO DE SISTEMA / COMPON...</td>\n",
              "      <td>UNIÃO DA VITÓRIA</td>\n",
              "      <td>PR</td>\n",
              "      <td>08/04/2010</td>\n",
              "      <td>2010</td>\n",
              "      <td>14:20:00</td>\n",
              "      <td>SIM</td>\n",
              "      <td>FINALIZADA</td>\n",
              "      <td>1</td>\n",
              "      <td>SIM</td>\n",
              "      <td>AVIÃO</td>\n",
              "      <td>PIPER AIRCRAFT</td>\n",
              "      <td>PISTÃO</td>\n",
              "      <td>BIMOTOR</td>\n",
              "      <td>6</td>\n",
              "      <td>1997</td>\n",
              "      <td>BRASIL</td>\n",
              "      <td>POUSO</td>\n",
              "      <td>SUBSTANCIAL</td>\n",
              "    </tr>\n",
              "    <tr>\n",
              "      <th>2</th>\n",
              "      <td>40148</td>\n",
              "      <td>ACIDENTE</td>\n",
              "      <td>PANE SECA</td>\n",
              "      <td>CAMPO GRANDE</td>\n",
              "      <td>MS</td>\n",
              "      <td>19/03/2010</td>\n",
              "      <td>2010</td>\n",
              "      <td>19:30:00</td>\n",
              "      <td>SIM</td>\n",
              "      <td>FINALIZADA</td>\n",
              "      <td>1</td>\n",
              "      <td>NÃO</td>\n",
              "      <td>AVIÃO</td>\n",
              "      <td>CESSNA AIRCRAFT</td>\n",
              "      <td>PISTÃO</td>\n",
              "      <td>MONOMOTOR</td>\n",
              "      <td>6</td>\n",
              "      <td>1962</td>\n",
              "      <td>BRASIL</td>\n",
              "      <td>APROXIMAÇÃO FINAL</td>\n",
              "      <td>SUBSTANCIAL</td>\n",
              "    </tr>\n",
              "    <tr>\n",
              "      <th>3</th>\n",
              "      <td>40149</td>\n",
              "      <td>ACIDENTE</td>\n",
              "      <td>FALHA DO MOTOR EM VOO</td>\n",
              "      <td>LUZIÂNIA</td>\n",
              "      <td>GO</td>\n",
              "      <td>21/03/2010</td>\n",
              "      <td>2010</td>\n",
              "      <td>20:45:00</td>\n",
              "      <td>SIM</td>\n",
              "      <td>FINALIZADA</td>\n",
              "      <td>1</td>\n",
              "      <td>NÃO</td>\n",
              "      <td>AVIÃO</td>\n",
              "      <td>XAVANTE</td>\n",
              "      <td>PISTÃO</td>\n",
              "      <td>MONOMOTOR</td>\n",
              "      <td>2</td>\n",
              "      <td>1974</td>\n",
              "      <td>BRASIL</td>\n",
              "      <td>DECOLAGEM</td>\n",
              "      <td>DESTRUÍDA</td>\n",
              "    </tr>\n",
              "    <tr>\n",
              "      <th>4</th>\n",
              "      <td>40150</td>\n",
              "      <td>INCIDENTE GRAVE</td>\n",
              "      <td>COM TREM DE POUSO</td>\n",
              "      <td>SANTA MARIA</td>\n",
              "      <td>RS</td>\n",
              "      <td>10/03/2010</td>\n",
              "      <td>2010</td>\n",
              "      <td>17:20:00</td>\n",
              "      <td>SIM</td>\n",
              "      <td>FINALIZADA</td>\n",
              "      <td>1</td>\n",
              "      <td>NÃO</td>\n",
              "      <td>AVIÃO</td>\n",
              "      <td>BEECH AIRCRAFT</td>\n",
              "      <td>PISTÃO</td>\n",
              "      <td>MONOMOTOR</td>\n",
              "      <td>6</td>\n",
              "      <td>1974</td>\n",
              "      <td>BRASIL</td>\n",
              "      <td>POUSO</td>\n",
              "      <td>LEVE</td>\n",
              "    </tr>\n",
              "  </tbody>\n",
              "</table>\n",
              "</div>"
            ],
            "text/plain": [
              "   codigo             tipo  ... aeronave_fase_operacao aeronave_nivel_dano\n",
              "0   40107         ACIDENTE  ...                  POUSO                LEVE\n",
              "1   40147         ACIDENTE  ...                  POUSO         SUBSTANCIAL\n",
              "2   40148         ACIDENTE  ...      APROXIMAÇÃO FINAL         SUBSTANCIAL\n",
              "3   40149         ACIDENTE  ...              DECOLAGEM           DESTRUÍDA\n",
              "4   40150  INCIDENTE GRAVE  ...                  POUSO                LEVE\n",
              "\n",
              "[5 rows x 21 columns]"
            ]
          },
          "metadata": {},
          "execution_count": 1
        }
      ]
    },
    {
      "cell_type": "markdown",
      "metadata": {
        "id": "co-v3u77utca"
      },
      "source": [
        "## <font color='Tomato'><b>Gráfico</b></font>"
      ]
    },
    {
      "cell_type": "code",
      "metadata": {
        "colab": {
          "base_uri": "https://localhost:8080/",
          "height": 445
        },
        "id": "nwScD_Xeg1nx",
        "outputId": "af8a38cf-24e7-469d-e217-847bd15e5828"
      },
      "source": [
        "# Somando quantas vezes cada tipo aparece.\n",
        "dadosCount = cenipaOcorrencias.groupby('tipo')['codigo'].count().sort_values(ascending=[False])\n",
        "\n",
        "# Gráfico\n",
        "grafico = cenipaOcorrencias['tipo'].value_counts().plot(kind='pie', label=\"\", fontsize = 17, shadow=True, autopct='%1.1f%%',figsize=(7,7))\n",
        "\n",
        "grafico.legend(dadosCount)\n",
        "grafico.set_title(\"Tipos de acidentes\")"
      ],
      "execution_count": null,
      "outputs": [
        {
          "output_type": "execute_result",
          "data": {
            "text/plain": [
              "Text(0.5, 1.0, 'Tipos de acidentes')"
            ]
          },
          "metadata": {},
          "execution_count": 92
        },
        {
          "output_type": "display_data",
          "data": {
            "image/png": "[encoded data removed]",
            "text/plain": [
              "<Figure size 504x504 with 1 Axes>"
            ]
          },
          "metadata": {}
        }
      ]
    },
    {
      "cell_type": "markdown",
      "metadata": {
        "id": "8ekfKp91vEWG"
      },
      "source": [
        "## <font color='Tomato'><b>Explicação</b></font>"
      ]
    },
    {
      "cell_type": "markdown",
      "metadata": {
        "id": "d3sIGoyJjS3-"
      },
      "source": [
        "Primeiramente, vamos distinguir a diferença entre ACIDENTE e INCIDENTE.\n",
        "\n",
        "Podemos dizer que ambos são eventos imprevistos, tendo como principal característica o nível de dano. Enquanto o acidente a vítima sofre lesões (seja leves ou graves), no incidente não há lesão. Mas, claro, o incidente tem potencial para se tornar um acidente.\n",
        "\n",
        "Vamos a alguns exemplos práticos de acidentes:\n",
        "\n",
        "- Tragédia aéreo de Tenerife, considerado como o maior acidente aéreo da história, onde duas aeronaves modelo Boeing 747 se chocaram na pista do Aeroporto de Tenerife Norte, nas Ilhas Canárias, em 1977. Este acidente ocasionou a morte de 583 pessoas.\n",
        "\n",
        "- O Voo da Air India que foi destruído quando fazia a jornada sobre o oceano atlântico, em 23 de junho de 1985, ao ocorrer uma explosão no compartimento de carga que causou uma rápida descompressão matando 329 pessoas.\n",
        "\n",
        "Exemplo de incidente aéreo:\n",
        "\n",
        "- FALHA DO MOTOR EM VOO: O problema ocorreu no Aeroporto Internacional Allama Iqbal, de Lahore, no Paquistão. Durante a aceleração pela pista 36L a tripulação rejeitou a decolagem devido a uma falha no motor esquerdo. A aeronave diminuiu a velocidade com segurança, mas terminou com alguns dos pneus do trem de pouso principal completamente murchos.\n",
        "\n",
        "Vemos neste gráfico de pizza um terceiro elemento: INCIDENTE GRAVE. Que seria\n",
        "esta variável?\n",
        "Definido pela própria ANAC (Agência Nacional de Aviação Civil) “Incidente\n",
        "aeronáutico envolvendo circunstâncias que indiquem que houve elevado potencial\n",
        "de risco de acidente relacionado à operação de uma aeronave tripulada, havida\n",
        "entre o momento em que uma pessoa nela embarca com a intenção de realizar um\n",
        "voo, até o momento em que todas as pessoas tenham dela desembarcado.”\n"
      ]
    },
    {
      "cell_type": "markdown",
      "metadata": {
        "id": "OrRgFXtDvXJa"
      },
      "source": [
        "## <font color='Tomato'><b>Cálculos</b></font>"
      ]
    },
    {
      "cell_type": "code",
      "metadata": {
        "colab": {
          "base_uri": "https://localhost:8080/"
        },
        "id": "yoVDPPSgkfn7",
        "outputId": "e347c072-d4b8-4443-e92a-cf3780fdc899"
      },
      "source": [
        "tipos = cenipaOcorrencias['tipo']\n",
        "tipoCount = tipos.value_counts()\n",
        "\n",
        "print('+-----------------------------+')\n",
        "print('| Média => ', round(tipoCount.mean(), 2))\n",
        "print('| Moda => ', sts.mode(tipos))\n",
        "print('| Mediana => ', sts.median(tipoCount))\n",
        "print('| Desvio padrão => ', round(sts.stdev(tipoCount)))\n",
        "print('+ ----------------------------+')"
      ],
      "execution_count": null,
      "outputs": [
        {
          "output_type": "stream",
          "name": "stdout",
          "text": [
            "+-----------------------------+\n",
            "| Média =>  1747.33\n",
            "| Moda =>  INCIDENTE\n",
            "| Mediana =>  1694\n",
            "| Desvio padrão =>  1114\n",
            "+ ----------------------------+\n"
          ]
        }
      ]
    },
    {
      "cell_type": "markdown",
      "metadata": {
        "id": "uNmNQyFajirO"
      },
      "source": [
        "# **Variável de análise: <font color='Lime'>hora</font>**"
      ]
    },
    {
      "cell_type": "markdown",
      "metadata": {
        "id": "9myQOIijubqK"
      },
      "source": [
        "## <font color='Tomato'><b>Gráfico</b></font>"
      ]
    },
    {
      "cell_type": "code",
      "metadata": {
        "id": "4LR3-ym_sWV8"
      },
      "source": [
        "# todas as horas\n",
        "horas = []\n",
        "\n",
        "# separando por períodos\n",
        "madrugadaList = [] # 00h - 5:59\n",
        "manhaList = [] # 06 - 11:59\n",
        "tardeList = [] # 12 - 17:59\n",
        "noiteList = [] # 18 - 23:59\n",
        "\n",
        "def setHours():\n",
        "  HorasMinutos = []\n",
        "\n",
        "  for i in cenipaOcorrencias['hora']:\n",
        "    HorasMinutos.append(i.split(sep=\":\", maxsplit=1))\n",
        "\n",
        "  for n in HorasMinutos:\n",
        "    horas.append(n[0])\n",
        "\n",
        "def setGroups():\n",
        "  for h in horas:\n",
        "    if(h == '00' or h == '01' or h == '02' or h == '03' or h == '04' or h == '05'):\n",
        "      madrugadaList.append(h)\n",
        "    elif(h == '06' or h == '07' or h == '08' or h == '09' or h == '10' or h == '11'):\n",
        "      manhaList.append(h)\n",
        "    elif(h == '12' or h == '13' or h == '14' or h == '15' or h == '16' or h == '17'):\n",
        "      tardeList.append(h)\n",
        "    elif(h == '18' or h == '19' or h == '20' or h == '21' or h == '22' or h == '23'):\n",
        "      noiteList.append(h)\n",
        "\n",
        "# callout do primeiro método: separar somente as horas, descartando, portanto, os minutos.\n",
        "setHours()\n",
        "# separando cada hora no seu devido período\n",
        "setGroups()"
      ],
      "execution_count": null,
      "outputs": []
    },
    {
      "cell_type": "code",
      "metadata": {
        "colab": {
          "base_uri": "https://localhost:8080/",
          "height": 427
        },
        "id": "TZM3q5OTstEQ",
        "outputId": "b2e19a05-8d43-4269-fb93-10de356c7905"
      },
      "source": [
        "# necessário a inserção manual, pois não temos essas informações\n",
        "grupos = ['Madrugada', 'Manhã', 'Tarde', 'Noite']\n",
        "valores = [len(madrugadaList), len(manhaList), len(tardeList), len(noiteList)]\n",
        "\n",
        "# Gráfico\n",
        "plt.figure(figsize=(8, 6), dpi=80)\n",
        "plt.bar(grupos, valores)\n",
        "plt.xlabel('Períodos do dia', color='black', )\n",
        "plt.ylabel('Casos', color='black')\n",
        "plt.grid(False)\n",
        "plt.show()"
      ],
      "execution_count": null,
      "outputs": [
        {
          "output_type": "display_data",
          "data": {
            "image/png": "[encoded data removed]",
            "text/plain": [
              "<Figure size 640x480 with 1 Axes>"
            ]
          },
          "metadata": {
            "needs_background": "light"
          }
        }
      ]
    },
    {
      "cell_type": "markdown",
      "metadata": {
        "id": "RP3SbbofujiV"
      },
      "source": [
        "## <font color='Tomato'><b>Explicação</b></font>"
      ]
    },
    {
      "cell_type": "markdown",
      "metadata": {
        "id": "s8oy5Bsvt1IF"
      },
      "source": [
        "<font color=\"Gold\"><b>O risco dos corujões (voos de madrugada)</b></font><br><br>\n",
        "\n",
        "De acordo com pesquisas, os pilotos erram quase 50% a mais nos voos de\n",
        "madrugada do que nas demais horas do dia. No turno da madrugada, pilotos\n",
        "cometem 9,5 erros de nível 3 (o mais perigoso para a segurança da aeronave) a\n",
        "cada 100 horas de voo. Em outros horários, a probabilidade de erros graves cai pela\n",
        "metade. De manhã, a tarde e à noite, por exemplo, a frequência desse tipo de falha\n",
        "baixa para algo em torno de 6,5 erros a cada 100 horas no ar.<br><br>\n",
        "\n",
        "Estudos analisaram erros de nível 3 cometidos por 987 pilotos durante seis meses.\n",
        "Neste período, foram contabilizadas 155,337 horas de voo e, dentre as 1,065 falhas\n",
        "constatadas, não houve registro de acidentes com vítimas entre as grandes\n",
        "empresas aéreas do país.<br><br>\n",
        "\n",
        "Apesar de preocupantes, as conclusões da pesquisa não devem ser vistas com\n",
        "alarmismo, pois a grande maioria dos erros é neutralizada por manobras corretivas e\n",
        "nem sempre redunda em acidentes, sendo inclusive imperceptível aos passageiros.<br><br>\n",
        "\n",
        "A maior incidência de procedimentos inadequados durante a madruga não foi uma\n",
        "surpresa para os cientistas. Pois, a exemplo dos caminhoneiros, motoristas de\n",
        "ônibus e outros profissionais que trabalham durante esse horário, os pilotos de avião\n",
        "são obrigados a passar horas a fio em um momento do dia em que seu organismo\n",
        "deveria estar descansando. Isso acontece por conta do ritmo circadiano do corpo,\n",
        "que é desestruturado com: cansaço, sonolência, estresse e mau humor. Enfim, uma\n",
        "sucessão de fatores que elevam o risco do erro humano em qualquer área de\n",
        "atuação. Na aviação, cujos acidentes graves são em cerca de 80% dos casos por\n",
        "causa de falhas humanas, não é diferente.<br><br>\n",
        "\n",
        "“O trabalho noturno faz os pilotos desempenharem tarefas num momento em que\n",
        "deveriam estar descansando e o aumento no índice de erros é da mesma ordem que\n",
        "já encontramos em motoristas de ônibus e de caminhão”, afirma Marco Túlio de\n",
        "Mello, coordenador do Cemsa e dos estudos com pilotos de avião.<br><br>\n",
        "\n",
        "Mas, não é só o cansaço físico que predispõe a falhas operacionais. O desgaste de\n",
        "trabalhar entre turnos alternados, dormir fora de casa e longe da família com\n",
        "frequência também mina o equilíbrio psicológico dos pilotos.<br><br>\n",
        "\n",
        "Em outro estudo, os pesquisadores do Cemsa constataram que o humor dos\n",
        "comandantes que trabalham entre meia-noite e seis horas encontra-se debilitado em\n",
        "relação ao estado de espírito dos que pegam no manche nos outros períodos do dia.<br><br>\n",
        "\n",
        "“Sua capacidade cognitiva está abaixo do normal, aumentando a probabilidade de\n",
        "ocorrerem acidentes por falha humana na madrugada”, diz Mello.<br><br>\n",
        "\n",
        "O estudo colheu informações de 91 pilotos de linhas comerciais que operam no\n",
        "Brasil, todos com pelo menos dez anos de profissão e que voam em proporções\n",
        "parecidas tanto de dia, quanto de noite. Os comandantes responderam um\n",
        "questionário formulado por um instrumento de pesquisa originalmente concebido\n",
        "para medir o estado psicológico de atletas que participam de competições, a Escala\n",
        "de Humor do Brasil (Brams). A metodologia abrange 24 itens e mensura seis tópicos\n",
        "relacionados ao humor. Em cinco deles (tensão, depressão, raiva, vigor e fadiga), o\n",
        "desempenho dos comandantes que voam durante a madrugada é pior do que os\n",
        "que voam em outros períodos. Apenas num quesito (confusão mental), que mede o \n",
        "controle emocional e o nível de atenção, o índice foi o mesmo para todos. De acordo\n",
        "com os pesquisadores, esse último dado sinaliza que, mesmo cansados, os\n",
        "comandantes dos voos corujões conseguem se manter alerta.<br><br>\n",
        "\n",
        "Os dados citados fazem parte de um estudo feito por pesquisadores do Centro de\n",
        "Estudo Multidisciplinar em Sonolência e Acidentes (Cemsa) e Departamento de\n",
        "Psicobiologia da Universidade Federal de São Paulo (Unifesp). O trabalho foi\n",
        "publicado em dezembro de 2009 na revista científica Brazilian Journal of Medical\n",
        "and Biological Research.<br><br>\n",
        "\n",
        "Mas, se os voos de madrugada apresentam mais chances de erros humanos, por\n",
        "que no gráfico mostrado no início do artigo acontecem mais acidentes durante os\n",
        "outros períodos do dia? Bom, a resposta é simples, a quantidade de voos durante\n",
        "manhã, tarde e noite são superiores as de madrugada. E como citado nos dados\n",
        "acima, a grande maioria dos erros é corrigido com manobras corretivas, ou seja,\n",
        "nem todos acabam em acidentes.<br><br>\n",
        "\n",
        "<font color=\"Gold\"><b>Quais são os melhores horários para viajar? (Em relação a segurança)</b></font><br><br>\n",
        "\n",
        "\n",
        "Como a maioria das pessoas devem saber, a maioria dos acidentes e incidentes de\n",
        "avião acontecem por falhas humanas, e não por falhas da aeronave em si, dito isso,\n",
        "não podemos afirmar com precisão se existe um horário \"mais seguro\" para viajar,\n",
        "porém, alguns dos dados a seguir podem ser levados em consideração para quem\n",
        "prefere apostar nas probabilidades.<br><br>\n",
        "\n",
        "- Estudos nos EUA indicam que voos de manhã têm menos probabilidade de\n",
        "atrasos do que os voos à tarde e à noite, o que permite ao piloto conduzir a\n",
        "viagem com mais tranquilidade;<br><br>\n",
        "- Estudos nos EUA indicam que voos de manhã têm menos probabilidade de\n",
        "atrasos do que os voos à tarde e à noite, o que permite ao piloto conduzir a\n",
        "viagem com mais tranquilidade;<br><br>\n",
        "- De acordo com pesquisas, os pilotos erram quase 50% a mais nos voos de\n",
        "madrugada do que nas demais horas do dia.<br><br>\n",
        "\n",
        "- No turno da madrugada, pilotos cometem 9,5 erros de nível 3, logo, para\n",
        "quem prefere confiar em estatísticas, os outros horários seriam mais\n",
        "favoráveis.<br><br>\n",
        "\n",
        "<font color=\"Gold\"><b>FATOS CURIOSOS (Bônus)</b></font><br><br>\n",
        "\n",
        "Um piloto dormir no manche do avião é uma cena muito mais rara do que um\n",
        "motorista de ônibus ou caminhão cochilar no volante. Mas pode acontecer, aqui vão\n",
        "alguns casos:<br><br>\n",
        "\n",
        "<font color='LightCyan'><b>Caso Cessna 208B (Cairns - Redcliffe) / julho 2020</b></font><br>\n",
        "Em julho de 2020, um experiente piloto australiano pegou no sono enquanto voava e\n",
        "foi parar a 100 quilômetros do seu destino, revelou uma investigação do ATSB\n",
        "(Australian Transport Safety Bureau). O relatório comenta que, naquele dia, o\n",
        "controle de tráfego aéreo tentou fazer contato com o piloto, mas ficaram 40 minutos\n",
        "sem resposta.<br><br>\n",
        "\n",
        "Após todas as tentativas de contato falharem, o controlador solicitou que outro avião\n",
        "interceptasse o Caravan. Um piloto se prontificou e realizou a missão, mas nem\n",
        "assim conseguiu chamar atenção.<br><br>\n",
        "\n",
        "Apenas depois do avião voar mais de 110 quilômetros além de seu destino\n",
        "pretendido que o piloto acordou e fez contato. Loucura, né?!<br><br>\n",
        "\n",
        "O relatório ainda completou que o piloto parecia \"grogue\" e \"não muito lúcido\"\n",
        "quando acordou, e mais tarte o mesmo relatou se sentir confuso ao iniciar a descida.\n",
        "No fim das contas, o piloto pousou sem muitos problemas.<br><br>\n",
        "\n",
        "Caso Go! Airlines (Honolulu – Hilo, Havaí) / fevereiro 2007\n",
        "Em fevereiro de 2007, os comandantes de um voo da Go! Airlines que saiu de\n",
        "Honolulu às 21h15 com destino a Hilo, no Havaí, um trajeto que dura normalmente\n",
        "meia hora, dormiram por quase 20 minutos na cabine. <br><br>\n",
        "\n",
        "A despeito dos insistentes contatos do pessoal da torre de controle e de outros\n",
        "aviões nas redondezas, eles passaram direto pelo aeroporto onde deveriam pousar \n",
        "e só despertaram 50 quilômetros adiante. Para sorte dos 40 passageiros a bordo da\n",
        "aeronave, os pilotos acordaram a tempo de dar meia-volta e aterrar o jato com\n",
        "segurança.<br><br>\n",
        "\n",
        "<font color='LightCyan'><b>Caso Air Índia (Dubai-Jaipur-Mumbai) / junho 2008</b></font><br>\n",
        "Em junho de 2008, um episódio semelhante aconteceu com um avião da Air Índia\n",
        "com cem passageiros, que fazia, durante a madrugada, a rota Dubai-Jaipur-Mumbai.\n",
        "Exaustos, os pilotos cerraram os olhos na cabine, ignoraram por completo o\n",
        "aeroporto de Mumbai, seu destino, e foram despertados de seu sono profundo mais\n",
        "de 500 quilômetros adiante por uma espécie de aviso sonoro enviado por rádio pelos\n",
        "controladores de voo.<br><br>\n",
        "\n",
        "<b>As três histórias tiveram finais felizes, mas são um alerta de que não levar em\n",
        "conta o relógio biológico dos pilotos aumenta os riscos de acidente.</b><br><br>\n",
        "\n",
        "<b>Glossário</b><br>\n",
        "Erros de nível 3: são aqueles que ultrapassam os limites operacionais de segurança\n",
        "definidos como padrão internacional, como por exemplo, virar o manche do avião\n",
        "numa angulação superior à recomendada, ou ignorar procedimentos especificados\n",
        "como padrão para a utilização do jato."
      ]
    },
    {
      "cell_type": "markdown",
      "metadata": {
        "id": "rPpxGQ5bzIg8"
      },
      "source": [
        ""
      ]
    },
    {
      "cell_type": "markdown",
      "metadata": {
        "id": "QAqOdizPzMY_"
      },
      "source": [
        "## <font color='Tomato'><b>Cálculos</b></font>"
      ]
    },
    {
      "cell_type": "code",
      "metadata": {
        "colab": {
          "base_uri": "https://localhost:8080/",
          "height": 300
        },
        "id": "UOA7qYn7zSDW",
        "outputId": "05772040-c38f-45b2-f131-4eddf67effad"
      },
      "source": [
        "# count: contagem das observações\n",
        "# mean: média\n",
        "# std: desvio padrão\n",
        "# min: mínimo\n",
        "# 25%: quartil Q1 (até 25%)\n",
        "# 50%: quartil Q2 (até 50%)\n",
        "# 75%: quartil Q3 (até 75%)\n",
        "# max: máximo\n",
        "\n",
        "dataframe_periodos = pd.DataFrame({'Valores':valores})\n",
        "dataframe_periodos.describe().round(2)"
      ],
      "execution_count": null,
      "outputs": [
        {
          "output_type": "execute_result",
          "data": {
            "text/html": [
              "<div>\n",
              "<style scoped>\n",
              "    .dataframe tbody tr th:only-of-type {\n",
              "        vertical-align: middle;\n",
              "    }\n",
              "\n",
              "    .dataframe tbody tr th {\n",
              "        vertical-align: top;\n",
              "    }\n",
              "\n",
              "    .dataframe thead th {\n",
              "        text-align: right;\n",
              "    }\n",
              "</style>\n",
              "<table border=\"1\" class=\"dataframe\">\n",
              "  <thead>\n",
              "    <tr style=\"text-align: right;\">\n",
              "      <th></th>\n",
              "      <th>Valores</th>\n",
              "    </tr>\n",
              "  </thead>\n",
              "  <tbody>\n",
              "    <tr>\n",
              "      <th>count</th>\n",
              "      <td>4.0</td>\n",
              "    </tr>\n",
              "    <tr>\n",
              "      <th>mean</th>\n",
              "      <td>1310.5</td>\n",
              "    </tr>\n",
              "    <tr>\n",
              "      <th>std</th>\n",
              "      <td>891.6</td>\n",
              "    </tr>\n",
              "    <tr>\n",
              "      <th>min</th>\n",
              "      <td>399.0</td>\n",
              "    </tr>\n",
              "    <tr>\n",
              "      <th>25%</th>\n",
              "      <td>640.5</td>\n",
              "    </tr>\n",
              "    <tr>\n",
              "      <th>50%</th>\n",
              "      <td>1291.0</td>\n",
              "    </tr>\n",
              "    <tr>\n",
              "      <th>75%</th>\n",
              "      <td>1961.0</td>\n",
              "    </tr>\n",
              "    <tr>\n",
              "      <th>max</th>\n",
              "      <td>2261.0</td>\n",
              "    </tr>\n",
              "  </tbody>\n",
              "</table>\n",
              "</div>"
            ],
            "text/plain": [
              "       Valores\n",
              "count      4.0\n",
              "mean    1310.5\n",
              "std      891.6\n",
              "min      399.0\n",
              "25%      640.5\n",
              "50%     1291.0\n",
              "75%     1961.0\n",
              "max     2261.0"
            ]
          },
          "metadata": {},
          "execution_count": 81
        }
      ]
    },
    {
      "cell_type": "markdown",
      "metadata": {
        "id": "nh3RpZCS3MF3"
      },
      "source": [
        "# **Variável de análise: <font color='Lime'>ocorrencia_saida_pista</font>**"
      ]
    },
    {
      "cell_type": "markdown",
      "metadata": {
        "id": "8NzEF23z3e8o"
      },
      "source": [
        "## <font color='Tomato'><b>Gráfico</b></font>"
      ]
    },
    {
      "cell_type": "code",
      "metadata": {
        "colab": {
          "base_uri": "https://localhost:8080/"
        },
        "id": "g7uI56Uu3ieJ",
        "outputId": "ec8a2453-6c65-432d-87e4-8c187eee723e"
      },
      "source": [
        "# Somando quantas vezes cada tipo aparece.\n",
        "dados_group_saidapista = cenipaOcorrencias.groupby('ocorrencia_saida_pista')['codigo'].count().sort_values(ascending=[False])\n",
        "\n",
        "# Gráfico\n",
        "grafico = cenipaOcorrencias['ocorrencia_saida_pista'].value_counts().plot(kind='pie', label=\"\", fontsize = 17, shadow=True, autopct='%1.1f%%',figsize=(7,7))\n",
        "\n",
        "grafico.legend(dados_group_saidapista)\n",
        "grafico.set_title(\"Saída Pista\")"
      ],
      "execution_count": null,
      "outputs": [
        {
          "output_type": "execute_result",
          "data": {
            "text/plain": [
              "Text(0.5, 1.0, 'Saída Pista')"
            ]
          },
          "metadata": {},
          "execution_count": 82
        },
        {
          "output_type": "display_data",
          "data": {
            "image/png": "[encoded data removed]",
            "text/plain": [
              "<Figure size 504x504 with 1 Axes>"
            ]
          },
          "metadata": {}
        }
      ]
    },
    {
      "cell_type": "markdown",
      "metadata": {
        "id": "CCqdi4Y64N_U"
      },
      "source": [
        "## <font color='Tomato'><b>Explicação</b></font>"
      ]
    },
    {
      "cell_type": "markdown",
      "metadata": {
        "id": "xx58g3yy4Z1q"
      },
      "source": [
        "Nesse módulo vamos constatar as causas e a quantidade de incidentes com o\n",
        "devido tema.<br>\n",
        "Ao longo dos anos podemos ver inúmeras ocorrências áreas sendo ela acidentes de\n",
        "fato ou incidentes, e é claro isso nos assusta, não é mesmo?<br><br>\n",
        "\n",
        "Podemos ver através de números que os casos de saída de pista são mínimos\n",
        "comparado a quantidade de voos realizados durante todos os anos.\n",
        "Os principais motivos causadores são: anomalias na aeronave, condições de pista\n",
        "(óleo, outros motivos no asfalto), aquaplanagem e condições de visão do piloto, no\n",
        "qual pode levar a uma falta de cálculo de pista.<br><br>\n",
        "\n",
        "Por fim, vimos que apesar de não ser algo tão devastador e com grande frequência,\n",
        "essa ocorrência acontece e gera um grande desconforto aos passageiros e\n",
        "tripulantes da aeronave, assim, como ao aeroporto por sua interdição."
      ]
    },
    {
      "cell_type": "markdown",
      "metadata": {
        "id": "HnJSDTDy45K8"
      },
      "source": [
        "## <font color='Tomato'><b>Cálculos</b></font>"
      ]
    },
    {
      "cell_type": "code",
      "metadata": {
        "colab": {
          "base_uri": "https://localhost:8080/"
        },
        "id": "LJDR3At_5FUX",
        "outputId": "11165d8f-16fc-42f3-ad29-284460d4ee20"
      },
      "source": [
        "ocorrencia_spista = cenipaOcorrencias['ocorrencia_saida_pista']\n",
        "ocorrencia_spista_count = ocorrencia_spista.value_counts()\n",
        "\n",
        "print('+-----------------------------+')\n",
        "print('| Média => ', round(ocorrencia_spista_count.mean(), 2))\n",
        "print('| Moda => ', sts.mode(ocorrencia_spista))\n",
        "print('| Mediana => ', sts.median(ocorrencia_spista_count))\n",
        "print('| Desvio padrão => ', round(sts.stdev(ocorrencia_spista_count)))\n",
        "print('+ ----------------------------+')"
      ],
      "execution_count": null,
      "outputs": [
        {
          "output_type": "stream",
          "name": "stdout",
          "text": [
            "+-----------------------------+\n",
            "| Média =>  2621.0\n",
            "| Moda =>  NÃO\n",
            "| Mediana =>  2621.0\n",
            "| Desvio padrão =>  3059\n",
            "+ ----------------------------+\n"
          ]
        }
      ]
    },
    {
      "cell_type": "markdown",
      "metadata": {
        "id": "vGAIoapO5b5g"
      },
      "source": [
        "# **Variável de análise: <font color='Lime'>estado</font>**"
      ]
    },
    {
      "cell_type": "markdown",
      "metadata": {
        "id": "ZflBd_dv5k8p"
      },
      "source": [
        "## <font color='Tomato'><b>Gráfico</b></font>"
      ]
    },
    {
      "cell_type": "code",
      "metadata": {
        "colab": {
          "base_uri": "https://localhost:8080/"
        },
        "id": "6SfTozBR5soa",
        "outputId": "d54bef6f-739f-4d4e-b580-0010b31ef324"
      },
      "source": [
        "# São Paulo, por ter a maior quantidade de aeronaves, consequentemente também tem o maior número de incidentes\n",
        "porEstado = cenipaOcorrencias.groupby('estado')['codigo'].count().sort_values(ascending=[False])\n",
        "porEstado\n",
        "\n",
        "# Plotando a quantidade de ocorrências por estado em gráfico\n",
        "plt.style.use(\"ggplot\")\n",
        "porEstado.plot(kind='bar', subplots=True, label=\"Ocorrências nos estados\" ,figsize=(15, 7))"
      ],
      "execution_count": null,
      "outputs": [
        {
          "output_type": "execute_result",
          "data": {
            "text/plain": [
              "array([<matplotlib.axes._subplots.AxesSubplot object at 0x7f285899c090>],\n",
              "      dtype=object)"
            ]
          },
          "metadata": {},
          "execution_count": 84
        },
        {
          "output_type": "display_data",
          "data": {
            "image/png": "[encoded data removed]",
            "text/plain": [
              "<Figure size 1080x504 with 1 Axes>"
            ]
          },
          "metadata": {}
        }
      ]
    },
    {
      "cell_type": "markdown",
      "metadata": {
        "id": "_MUtdzX45xCq"
      },
      "source": [
        "## <font color='Tomato'><b>Explicação</b></font>"
      ]
    },
    {
      "cell_type": "markdown",
      "metadata": {
        "id": "JdimeYAu50kn"
      },
      "source": [
        "Nesta seção, vamos explicar e mostrar gráficos com dados sobre os acidentes e\n",
        "incidentes nos estados, no gráfico acima mostramos alguns dados.<br><br>\n",
        "\n",
        "Claramente, São Paulo acaba ficando na frente dos outros estados, mas isso tem\n",
        "seus motivos.<br><br>\n",
        "São Paulo foi o estado com mais visitas de turistas em 2018 e 2019 de acordo com o\n",
        "Anuário Estatístico de Turismo que foi desenvolvido pela Coordenação Geral de\n",
        "Dados e informações do Ministério do Turismo, sem contar que os aeroportos de\n",
        "São Paulo aparecem entre os 10 aeroportos mais movimentados do Brasil, sendo\n",
        "que em primeiro é o de Guarulhos, São Paulo também possui o maior aeroporto do\n",
        "país (Aeroporto Internacional de São Paulo).<br><br>\n",
        "Com estes dados, podemos entender que São Paulo é o estado com maior número\n",
        "de voos, o que influencia e faz com que o número de acidentes ou incidentes seja\n",
        "maior em comparação aos demais."
      ]
    },
    {
      "cell_type": "markdown",
      "metadata": {
        "id": "5CO4F-zM6Qeb"
      },
      "source": [
        "## <font color='Tomato'><b>Cálculos</b></font>"
      ]
    },
    {
      "cell_type": "code",
      "metadata": {
        "colab": {
          "base_uri": "https://localhost:8080/"
        },
        "id": "ScPBVajY6Som",
        "outputId": "ca0ba2ed-d95b-4580-b1b9-303f5d3dcfe0"
      },
      "source": [
        "estados = cenipaOcorrencias['estado']\n",
        "estados_count = estados.value_counts()\n",
        "\n",
        "print('+-----------------------------+')\n",
        "print('| Média => ', round(estados_count.mean(), 2))\n",
        "print('| Moda => ', sts.mode(estados))\n",
        "print('| Mediana => ', sts.median(estados_count))\n",
        "print('| Desvio padrão => ', round(sts.stdev(estados_count)))\n",
        "print('+ ----------------------------+')"
      ],
      "execution_count": null,
      "outputs": [
        {
          "output_type": "stream",
          "name": "stdout",
          "text": [
            "+-----------------------------+\n",
            "| Média =>  194.15\n",
            "| Moda =>  SP\n",
            "| Mediana =>  90\n",
            "| Desvio padrão =>  255\n",
            "+ ----------------------------+\n"
          ]
        }
      ]
    },
    {
      "cell_type": "markdown",
      "metadata": {
        "id": "BN_CGX_26sN5"
      },
      "source": [
        "# **Variável de análise: <font color='Lime'>ano</font>**"
      ]
    },
    {
      "cell_type": "markdown",
      "metadata": {
        "id": "qqt1-POS65aT"
      },
      "source": [
        "## <font color='Tomato'><b>Gráfico</b></font>"
      ]
    },
    {
      "cell_type": "code",
      "metadata": {
        "colab": {
          "base_uri": "https://localhost:8080/"
        },
        "id": "ETafCoPT68Hg",
        "outputId": "281d198e-cd04-4934-9f28-c95159c4ec59"
      },
      "source": [
        "porAno = cenipaOcorrencias.groupby('ano')['codigo'].count().sort_values(ascending=[False])\n",
        "porAno\n",
        "\n",
        "# Plotando a quantidade de ocorrências por ocorrências por ano\n",
        "plt.style.use(\"ggplot\")\n",
        "porAno.plot(kind='barh', subplots=True, label=\"Ocorrências por ano\" ,figsize=(7, 7))"
      ],
      "execution_count": null,
      "outputs": [
        {
          "output_type": "execute_result",
          "data": {
            "text/plain": [
              "array([<matplotlib.axes._subplots.AxesSubplot object at 0x7f28589e7c50>],\n",
              "      dtype=object)"
            ]
          },
          "metadata": {},
          "execution_count": 86
        },
        {
          "output_type": "display_data",
          "data": {
            "image/png": "[encoded data removed]",
            "text/plain": [
              "<Figure size 504x504 with 1 Axes>"
            ]
          },
          "metadata": {}
        }
      ]
    },
    {
      "cell_type": "markdown",
      "metadata": {
        "id": "LPLYq4CV6_aP"
      },
      "source": [
        "## <font color='Tomato'><b>Explicação</b></font>"
      ]
    },
    {
      "cell_type": "markdown",
      "metadata": {
        "id": "x7xn4e1E7BmM"
      },
      "source": [
        "No gráfico acima, mostram os anos de 2010 até 2019 com dados sobre os\n",
        "acidentes e incidentes ocorridos.<br><br>\n",
        "\n",
        "Podemos ver que em 2012, o país sofreu com um aumento elevado se comparado a\n",
        "<font>2011</font>. Por conta disso as autoridades fizeram campanhas e estratégias para que em\n",
        "2013 o aumento fosse amenizado, o que funcionou teoricamente, porém, não foi o\n",
        "suficiente para que diminuísse em números de acidentes e incidentes gerais em\n",
        "relação ao ano anterior"
      ]
    },
    {
      "cell_type": "markdown",
      "metadata": {
        "id": "FWYMm8AR7Wmg"
      },
      "source": [
        "## <font color='Tomato'><b>Cálculos</b></font>"
      ]
    },
    {
      "cell_type": "code",
      "metadata": {
        "colab": {
          "base_uri": "https://localhost:8080/"
        },
        "id": "toQoFLoW7aDO",
        "outputId": "1b4cd0fc-1be1-4796-96c9-d614f0fc1adc"
      },
      "source": [
        "anos = cenipaOcorrencias['ano']\n",
        "anos_count = anos.value_counts()\n",
        "\n",
        "print('+-----------------------------+')\n",
        "print('| Média => ', round(anos_count.mean(), 2))\n",
        "print('| Moda => ', sts.mode(anos))\n",
        "print('| Mediana => ', sts.median(anos_count))\n",
        "print('| Desvio padrão => ', round(sts.stdev(anos_count)))\n",
        "print('+ ----------------------------+')"
      ],
      "execution_count": null,
      "outputs": [
        {
          "output_type": "stream",
          "name": "stdout",
          "text": [
            "+-----------------------------+\n",
            "| Média =>  524.2\n",
            "| Moda =>  2013\n",
            "| Mediana =>  524.0\n",
            "| Desvio padrão =>  88\n",
            "+ ----------------------------+\n"
          ]
        }
      ]
    },
    {
      "cell_type": "markdown",
      "metadata": {
        "id": "xrz03Waj7psy"
      },
      "source": [
        "# **Variável de análise: <font color='Lime'>aeronave_liberada</font>**"
      ]
    },
    {
      "cell_type": "markdown",
      "metadata": {
        "id": "U1v-bv6s7u4e"
      },
      "source": [
        "## <font color='Tomato'><b>Gráfico</b></font>"
      ]
    },
    {
      "cell_type": "code",
      "metadata": {
        "colab": {
          "base_uri": "https://localhost:8080/"
        },
        "id": "IAUJN5_u7ypN",
        "outputId": "e3c7a188-78c5-4aff-9c50-1ecc9dd0360d"
      },
      "source": [
        "# Dados em números na parte Externa\n",
        "aeronav_lib_count = cenipaOcorrencias.groupby('aeronave_liberada')['codigo'].count().sort_values(ascending=[False])\n",
        "\n",
        "# Gráfico\n",
        "grafico = cenipaOcorrencias['aeronave_liberada'].value_counts().plot(kind='pie', label=\"\", fontsize = 17, shadow=True, autopct='%1.1f%%',figsize=(8.5,8.5))\n",
        "\n",
        "grafico.legend(aeronav_lib_count)\n",
        "grafico.set_title(\"Aeronave Liberada\")"
      ],
      "execution_count": null,
      "outputs": [
        {
          "output_type": "execute_result",
          "data": {
            "text/plain": [
              "Text(0.5, 1.0, 'Aeronave Liberada')"
            ]
          },
          "metadata": {},
          "execution_count": 88
        },
        {
          "output_type": "display_data",
          "data": {
            "image/png": "[encoded data removed]",
            "text/plain": [
              "<Figure size 612x612 with 1 Axes>"
            ]
          },
          "metadata": {}
        }
      ]
    },
    {
      "cell_type": "markdown",
      "metadata": {
        "id": "giB4tKoP8ORq"
      },
      "source": [
        "## <font color='Tomato'><b>Explicação</b></font>"
      ]
    },
    {
      "cell_type": "markdown",
      "metadata": {
        "id": "MeNzIxSg8RvZ"
      },
      "source": [
        "Neste tópico falaremos sobre as aeronaves liberadas para voo após os acidentes\n",
        "envolvidos.<br><br>\n",
        "[Podemos afirmar que desastres aéreos são raros e, quando acontecem, tem como\n",
        "causa fatores que não se repetem pois tudo que se aprende com a queda de uma\n",
        "aeronave é usado para evitar outra tragédia igual]<br><br>\n",
        "No gráfico acima, de acordo com os dados do CENIPA, podemos analisar que\n",
        "51,3% são de aeronaves que foram liberadas para voo por estarem em boas\n",
        "condições de uso e seguras para voltar as rotas aéreas.<br><br>\n",
        "Entretanto 2,6% é a taxa de aeronaves que foram barradas de voltar a voar por não\n",
        "terem condições especificas para realizar os voos.<br><br>\n",
        "A taxa indeterminada de 46,1% seria os aviões onde a perícia não conseguiu\n",
        "localizar ou que não tinham caixa preta ou até mesmo aviões voando\n",
        "clandestinamente.<br><br>\n",
        "\n",
        "Um exemplo de aeronave liberada recentemente que se envolveu em acidentes em\n",
        "Novembro de 2018 e Março de 2019 é a Boeing 737 Max, em um curto intervalo de \n",
        "4 meses dois desses modelos sofreram acidentes matando 189 pessoas no mar da\n",
        "Indonésia na primeira queda e 157 na Etiópia na segunda queda, as quedas foram\n",
        "causadas por um erro de software chamado Mcas, o sistema impede que o jato\n",
        "aumento seu ângulo de ataque, ou melhor dizendo que levante o nariz da aeronave\n",
        "a ponto de perder a sustentação empurrando para baixo.<br><br>\n",
        "A aeronave ficou proibida para utilização em 59 países incluindo o Brasil, a proibição\n",
        "durou 20 meses, o software foi corrigido além da fiação trocada e os pilotos\n",
        "passaram por treinamento em simuladores específicos, e a aeronave voltou a\n",
        "circular em 9/12/2020 pela companhia aérea Gol"
      ]
    },
    {
      "cell_type": "markdown",
      "metadata": {
        "id": "yVQrliMK8pJs"
      },
      "source": [
        "## <font color='Tomato'><b>Cálculos</b></font>"
      ]
    },
    {
      "cell_type": "code",
      "metadata": {
        "colab": {
          "base_uri": "https://localhost:8080/"
        },
        "id": "_qjXlufp8sh1",
        "outputId": "0330656b-bba6-4c9f-dc4e-388cb039ebb7"
      },
      "source": [
        "aeronav_lib = cenipaOcorrencias['aeronave_liberada']\n",
        "aeronav_lib_counts = aeronav_lib.value_counts()\n",
        "\n",
        "print('+-----------------------------+')\n",
        "print('| Média => ', round(aeronav_lib_counts.mean(), 2))\n",
        "print('| Moda => ', sts.mode(aeronav_lib))\n",
        "print('| Mediana => ', sts.median(aeronav_lib_counts))\n",
        "print('| Desvio padrão => ', round(sts.stdev(aeronav_lib_counts)))\n",
        "print('+ ----------------------------+')"
      ],
      "execution_count": null,
      "outputs": [
        {
          "output_type": "stream",
          "name": "stdout",
          "text": [
            "+-----------------------------+\n",
            "| Média =>  1747.33\n",
            "| Moda =>  SIM\n",
            "| Mediana =>  2419\n",
            "| Desvio padrão =>  1402\n",
            "+ ----------------------------+\n"
          ]
        }
      ]
    },
    {
      "cell_type": "markdown",
      "metadata": {
        "id": "2HLqu0EO-Lg4"
      },
      "source": [
        "# **Variável de análise: <font color='Lime'>aeronave_tipo</font>**"
      ]
    },
    {
      "cell_type": "markdown",
      "metadata": {
        "id": "WwRX2d_U-PxR"
      },
      "source": [
        "## <font color='Tomato'><b>Gráfico</b></font>"
      ]
    },
    {
      "cell_type": "code",
      "metadata": {
        "colab": {
          "base_uri": "https://localhost:8080/",
          "height": 480
        },
        "id": "QHwmTBuW-Sfw",
        "outputId": "b77f459d-d13e-4790-b66d-9236aad24d92"
      },
      "source": [
        "aeronave_tipo = cenipaOcorrencias.groupby('aeronave_tipo')['codigo'].count().sort_values(ascending=[False])\n",
        "aeronave_tipo\n",
        "\n",
        "# Plotando a quantidade de ocorrências por tipos de aeronaves\n",
        "plt.style.use(\"ggplot\")\n",
        "aeronave_tipo.plot(kind='barh', subplots=True, label=\"Tipos de aeronaves\" ,figsize=(12, 7))"
      ],
      "execution_count": null,
      "outputs": [
        {
          "output_type": "execute_result",
          "data": {
            "text/plain": [
              "array([<matplotlib.axes._subplots.AxesSubplot object at 0x7f2858ae1250>],\n",
              "      dtype=object)"
            ]
          },
          "metadata": {},
          "execution_count": 90
        },
        {
          "output_type": "display_data",
          "data": {
            "image/png": "[encoded data removed]",
            "text/plain": [
              "<Figure size 864x504 with 1 Axes>"
            ]
          },
          "metadata": {}
        }
      ]
    },
    {
      "cell_type": "markdown",
      "metadata": {
        "id": "BdipDyex-ZwQ"
      },
      "source": [
        "## <font color='Tomato'><b>Explicação</b></font>"
      ]
    },
    {
      "cell_type": "markdown",
      "metadata": {
        "id": "y6s_laJD-cRy"
      },
      "source": [
        "Analisando agora pelos tipos de aeronaves, podemos visualizar na imagem abaixo\n",
        "que os aviões lideram em relação ao número de acidentes. Esses números foram\n",
        "registrados entre 2006 3 2017 e registrados pelo Centro de Investigação e\n",
        "Prevenção de Acidentes Aeronáuticos (CENIPA)<br><br>\n",
        "\n",
        "Dentre os aviões, os que lideram em relação a acidentes são os de pequeno porte,\n",
        "que por questões de recursos, manutenção e tecnologia, tendem a ter mais falhas.\n",
        "Segue abaixo um gráfico que mostra um percentual dessas aeronaves envolvidas\n",
        "em acidentes, categorizados pelo código ICAO referente ao modelo da aeronave,\n",
        "registrados entre 2010 e 2019. Nota-se que os modelos de aeronave mais\n",
        "frequentes em ocorrências desse período foram: IPAN, PA34 e C210, que\n",
        "representam 30,4% do total de aeronaves envolvidas.<br><br>\n",
        "\n",
        "![image.png](data:image/png;base64,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)\n",
        "\n"
      ]
    },
    {
      "cell_type": "markdown",
      "metadata": {
        "id": "koUhs_CqBCfc"
      },
      "source": [
        "## <font color='Tomato'><b>Cálculos</b></font>"
      ]
    },
    {
      "cell_type": "code",
      "metadata": {
        "colab": {
          "base_uri": "https://localhost:8080/"
        },
        "id": "9fF01RE5BP3b",
        "outputId": "52369d70-4fe7-4ba5-fe4c-01c786ef2f1a"
      },
      "source": [
        "aeronav_tipo = cenipaOcorrencias['aeronave_tipo']\n",
        "aeronav_tipo_counts = aeronav_tipo.value_counts()\n",
        "\n",
        "print('+-----------------------------+')\n",
        "print('| Média => ', round(aeronav_tipo_counts.mean(), 2))\n",
        "print('| Moda => ', sts.mode(aeronav_tipo))\n",
        "print('| Mediana => ', sts.median(aeronav_tipo_counts))\n",
        "print('| Desvio padrão => ', round(sts.stdev(aeronav_tipo_counts)))\n",
        "print('+ ----------------------------+')"
      ],
      "execution_count": null,
      "outputs": [
        {
          "output_type": "stream",
          "name": "stdout",
          "text": [
            "+-----------------------------+\n",
            "| Média =>  524.2\n",
            "| Moda =>  AVIÃO\n",
            "| Mediana =>  13.5\n",
            "| Desvio padrão =>  1311\n",
            "+ ----------------------------+\n"
          ]
        }
      ]
    },
    {
      "cell_type": "markdown",
      "metadata": {
        "id": "vQs4lFywBZjd"
      },
      "source": [
        "# **Variável de análise: <font color='Lime'>status_investigacao</font>**"
      ]
    },
    {
      "cell_type": "markdown",
      "metadata": {
        "id": "Wih0RBQDBhdW"
      },
      "source": [
        "## <font color='Tomato'><b>Gráfico</b></font>"
      ]
    },
    {
      "cell_type": "code",
      "metadata": {
        "colab": {
          "base_uri": "https://localhost:8080/",
          "height": 445
        },
        "id": "qs3fgJsKBk9B",
        "outputId": "ef6e225f-8f2a-4b19-da1b-391974aa1c7a"
      },
      "source": [
        "# Somando quantas vezes cada tipo aparece.\n",
        "status_invest_count = cenipaOcorrencias.groupby('status_investigacao')['codigo'].count().sort_values(ascending=[False])\n",
        "\n",
        "# Gráfico\n",
        "grafico = cenipaOcorrencias['status_investigacao'].value_counts().plot(kind='pie', label=\"\", fontsize = 17, shadow=True, autopct='%1.1f%%',figsize=(7,7))\n",
        "\n",
        "grafico.legend(status_invest_count)\n",
        "grafico.set_title(\"Status Investigação\")"
      ],
      "execution_count": null,
      "outputs": [
        {
          "output_type": "execute_result",
          "data": {
            "text/plain": [
              "Text(0.5, 1.0, 'Status Investigação')"
            ]
          },
          "metadata": {},
          "execution_count": 93
        },
        {
          "output_type": "display_data",
          "data": {
            "image/png": "[encoded data removed]",
            "text/plain": [
              "<Figure size 504x504 with 1 Axes>"
            ]
          },
          "metadata": {}
        }
      ]
    },
    {
      "cell_type": "markdown",
      "metadata": {
        "id": "6aGrL4eUB-oq"
      },
      "source": [
        "## <font color='Tomato'>**Explicação**</font>"
      ]
    },
    {
      "cell_type": "markdown",
      "metadata": {
        "id": "mjXH1o8VCBib"
      },
      "source": [
        "Vamos, agora, conhecer as etapas de investigação do CENIPA\n",
        "Caso ocorra um acidente, o Cenipa agirá em três etapas. Primeiro, a ocorrência\n",
        "deverá ser advertida e validada. Em seguida, as informações da notificação podem\n",
        "ser complementadas ou confirmadas. Na terceira etapa, as informações da\n",
        "ocorrência passam por autenticação.<br><br>\n",
        "\n",
        "<font color='LightCyan'><b>PRIMEIRO ATO</b></font><br>\n",
        "Assim que o episódio é advertido como um acidente aeronáutico, primeiramente, o\n",
        "Cenipa verifica o local do acontecimento. Nessa visita, é preservado os indícios,\n",
        "coleta novos dados e confirma as informações já recebidas e verifica danos à\n",
        "aeronave ou provocados por ela.<br><br>\n",
        "\n",
        "\n",
        "<font color='LightCyan'><b>CAIXA PRETA</b></font><br>\n",
        "Sendo a responsável por gravar todo o áudio captado na cabine de comando do\n",
        "avião, o centro de investigações da Aeronáutica também é responsável pelos dados\n",
        "de gravação do voo armazenados na caixa-preta.<br><br>\n",
        "\n",
        "<font color='LightCyan'><b>DESTROÇOS</b></font><br>\n",
        "Após a coleta de informações necessárias é feita no local do acidente, é liberado a\n",
        "investigação policial. É recomendado que nenhum objeto seja retirado de dentro da\n",
        "aeronave, exceto pelos casos de resgate.<br><br>\n",
        "\n",
        "<font color='LightCyan'><b>RELATÓRIO</b></font><br>\n",
        "Ao concluir a investigação, um relatório é feito com o intuito de precaver futuros\n",
        "acontecimentos. Lembrando que este documento não visa acusar alguém e que não\n",
        "seja usado, caso houver, eventos judiciais.<br><br>\n",
        "\n",
        "<font color='LightCyan'><b>RECOMENDAÇÃO</b></font><br>\n",
        "Por fim, é direcionado advertências de seguranças.\n"
      ]
    },
    {
      "cell_type": "markdown",
      "metadata": {
        "id": "csOk1eL0C0HN"
      },
      "source": [
        "## <font color='Tomato'><b>Cálculos</b></font>"
      ]
    },
    {
      "cell_type": "code",
      "metadata": {
        "colab": {
          "base_uri": "https://localhost:8080/"
        },
        "id": "89AQWAtfC4T0",
        "outputId": "e1cc9f5e-82b4-4829-bb23-751787efc97e"
      },
      "source": [
        "status_invest = cenipaOcorrencias['status_investigacao']\n",
        "status_invest_counts = status_invest.value_counts()\n",
        "\n",
        "print('+-----------------------------+')\n",
        "print('| Média => ', round(status_invest_counts.mean(), 2))\n",
        "print('| Moda => ', sts.mode(status_invest))\n",
        "print('| Mediana => ', sts.median(status_invest_counts))\n",
        "print('| Desvio padrão => ', round(sts.stdev(status_invest_counts)))\n",
        "print('+ ----------------------------+')"
      ],
      "execution_count": null,
      "outputs": [
        {
          "output_type": "stream",
          "name": "stdout",
          "text": [
            "+-----------------------------+\n",
            "| Média =>  1747.33\n",
            "| Moda =>  FINALIZADA\n",
            "| Mediana =>  816\n",
            "| Desvio padrão =>  2021\n",
            "+ ----------------------------+\n"
          ]
        }
      ]
    },
    {
      "cell_type": "markdown",
      "metadata": {
        "id": "CUOV_LXiDFhj"
      },
      "source": [
        "# **Variável de análise: <font color='Lime'>motor_tipo</font>**"
      ]
    },
    {
      "cell_type": "markdown",
      "metadata": {
        "id": "1RJA8lhLDRUP"
      },
      "source": [
        "## <font color='Tomato'><b>Gráfico</b></font>"
      ]
    },
    {
      "cell_type": "code",
      "metadata": {
        "colab": {
          "base_uri": "https://localhost:8080/",
          "height": 480
        },
        "id": "-qcs6RFGDY2C",
        "outputId": "f8cd0089-7e02-413b-c4b9-6edd130e08ae"
      },
      "source": [
        "motor_tipo = cenipaOcorrencias.groupby('motor_tipo')['codigo'].count().sort_values(ascending=[False])\n",
        "motor_tipo\n",
        "\n",
        "# Plotando a quantidade de ocorrências por tipo do motor\n",
        "plt.style.use(\"ggplot\")\n",
        "motor_tipo.plot(kind='barh', subplots=True, label=\"Tipo do motor\" ,figsize=(7, 7))"
      ],
      "execution_count": null,
      "outputs": [
        {
          "output_type": "execute_result",
          "data": {
            "text/plain": [
              "array([<matplotlib.axes._subplots.AxesSubplot object at 0x7f285885ce50>],\n",
              "      dtype=object)"
            ]
          },
          "metadata": {},
          "execution_count": 95
        },
        {
          "output_type": "display_data",
          "data": {
            "image/png": "[encoded data removed]",
            "text/plain": [
              "<Figure size 504x504 with 1 Axes>"
            ]
          },
          "metadata": {}
        }
      ]
    },
    {
      "cell_type": "markdown",
      "metadata": {
        "id": "I-FtW8RzDbYm"
      },
      "source": [
        "## <font color='Tomato'>**Explicação**</font>"
      ]
    },
    {
      "cell_type": "markdown",
      "metadata": {
        "id": "H2WTVnywDnHg"
      },
      "source": [
        "As estatísticas do (CENIPA - Centro de Investigação e Prevenção de Acidentes\n",
        "Aeronáuticos-aéreos) possuem uma alta incidência de falhas de motores. Os modelos\n",
        "convencionais que equipam pequenas aeronaves, a conclusão entre mecânicos é que\n",
        "motores a pistão emitem sinais de panes que estão por vir.<br><br>\n",
        "\n",
        "<font color='Gold'><b>Como funciona o modelo PISTÃO</b></font><br><br>\n",
        "\n",
        "Esse tipo de motor aproveita a energia da expansão dos gases gerados pela queima\n",
        "da mistura ar-combustível no seu interior para impulsionar um pistão que se move em\n",
        "rotação, por meio de uma biela acoplada a um eixo de manivelas. A combustão\n",
        "geradora de energia é resultado da mistura de gases ou partículas divididas com o ar\n",
        "em uma porcentagem bem determinada, propagando-se a certa velocidade.<br>\n",
        "Fonte: https://www.chamoneaviacao.com.br/jato-turboelice-ou-pistao-saiba-comoescolher-sua-aeronave/<br><br>\n",
        "\n",
        "<font color='Gold'><b>Por que ocorre tantos acidentes e como evitar?</b><font><br><br>\n",
        "\n",
        "A origem das falhas do modelo é fácil de entender. Dentro dos motores existe um\n",
        "grande risco de desgaste nas peças. Partes mecânicas que se atritam são fabricadas\n",
        "em diversos tipos de metal.<br><br>\n",
        "Se por algum motivo a fricção entre as partes não for mantida a níveis baixos, os\n",
        "metais começam a se decompor. Basicamente, são duas as grandes áreas de\n",
        "desgaste. A primeira é o volume interno do bloco. Lá estão o eixo de manivelas e o\n",
        "eixo de comando de válvulas.<br><br>\n",
        "\n",
        "O mesmo pode acontecer com o eixo de comando de válvulas. Instalado na parte mais\n",
        "alta do motor. O mesmo pode acontecer com o eixo de comando de válvulas. Instalado\n",
        "na parte mais alta do motor. Na medida em que esse eixo se desgasta, suas\n",
        "dimensões se reduzem e as válvulas deixam de ser abertas na amplitude necessária. <br><br>\n",
        "\n",
        "Então, o volume de combustível a entrar é reduzido e a mistura já queimada tem\n",
        "dificuldades em sair para o escapamento.<br><Br>\n",
        "\n",
        "Em qualquer um dos casos, o motor começa a perder força e desempenho o que\n",
        "acaba dificultando o trabalho do piloto e por muitas das vezes ocasionando em um\n",
        "acidente.<br><Br>\n",
        "\n",
        "<font color='Gold'><b>Para evitar complicações e cuidar do modelo pistão</b></font><br><br>\n",
        "\n",
        "Importante ficar atento aos sinais que o pistão vem dando sobre problemas, alguns\n",
        "exemplos são: Vibrações excessivas, funcionamento áspero, falhas ocasionais e a cor\n",
        "interna dos escapamentos podem significar sintomas de que algo não anda bem. Ou\n",
        "seja, o operador tem como acompanhar a saúde de um motor.<br><br>\n",
        "\n",
        "Algumas recomendações do fabricante é: Necessário voar ao menos uma hora por\n",
        "mês/uma hora por semana. A troca de óleo é de suma importância para o\n",
        "equipamento, ou seja, independente do uso da aeronave, o óleo deve ser substituído\n",
        "em, no máximo, <b>quatro meses.</b><br><br>\n",
        "\n",
        "Fundamental se assegurar que o piloto saiba e cumpra os procedimentos para evitar\n",
        "o CHT elevado, como corrigir corretamente a mistura para o regime de potência\n",
        "empregado na altitude que se pretenda voar.<br><br>\n",
        "\n",
        "Porém, procedimentos corretos fazem elevar a carga de trabalho do piloto. Este, por\n",
        "sua vez, só pode monitorar o CHT se a aeronave possuir sensores de temperatura.\n",
        "Mas a maior parte delas não tem. Isso explica a grande ocorrência de panes em\n",
        "motores de aeronaves antigas.\n",
        "\n"
      ]
    },
    {
      "cell_type": "markdown",
      "metadata": {
        "id": "vc9ZmVc8FNf-"
      },
      "source": [
        ""
      ]
    },
    {
      "cell_type": "markdown",
      "metadata": {
        "id": "ewDIKkPBFRV2"
      },
      "source": [
        "## <font color='Tomato'><b>Cálculos</b></font>"
      ]
    },
    {
      "cell_type": "code",
      "metadata": {
        "colab": {
          "base_uri": "https://localhost:8080/"
        },
        "id": "MrQ5zEC3FToI",
        "outputId": "e99efcec-08ef-48c1-d97c-c8509b0c58a7"
      },
      "source": [
        "var_motor_tipo = cenipaOcorrencias['motor_tipo']\n",
        "motor_tipo_counts = var_motor_tipo.value_counts()\n",
        "\n",
        "print('+-----------------------------+')\n",
        "print('| Média => ', round(motor_tipo_counts.mean(), 2))\n",
        "print('| Moda => ', sts.mode(var_motor_tipo))\n",
        "print('| Mediana => ', sts.median(motor_tipo_counts))\n",
        "print('| Desvio padrão => ', round(sts.stdev(motor_tipo_counts)))\n",
        "print('+ ----------------------------+')"
      ],
      "execution_count": null,
      "outputs": [
        {
          "output_type": "stream",
          "name": "stdout",
          "text": [
            "+-----------------------------+\n",
            "| Média =>  873.67\n",
            "| Moda =>  PISTÃO\n",
            "| Mediana =>  563.0\n",
            "| Desvio padrão =>  1080\n",
            "+ ----------------------------+\n"
          ]
        }
      ]
    },
    {
      "cell_type": "markdown",
      "metadata": {
        "id": "uYoCv_XxFjhs"
      },
      "source": [
        "# **Variável de análise: <font color='Lime'>aeronave_ano_fabricacao</font>**"
      ]
    },
    {
      "cell_type": "markdown",
      "metadata": {
        "id": "Dzk_8TbiFqVw"
      },
      "source": [
        "## <font color='Tomato'><b>Gráfico</b></font>"
      ]
    },
    {
      "cell_type": "code",
      "metadata": {
        "id": "G_0eZVkDFw0n"
      },
      "source": [
        "# cada variável representa 1 decáda, isto é, deca30: 1930 - 1939\n",
        "deca30 = []\n",
        "deca40 = []\n",
        "deca50 = []\n",
        "deca60 = []\n",
        "deca70 = []\n",
        "deca80 = []\n",
        "deca90 = []\n",
        "deca20 = []\n",
        "deca21 = []\n",
        "\n",
        "for i in cenipaOcorrencias['aeronave_ano_fabricacao']:\n",
        "  i = str(i)\n",
        "  if i != None and i != '0':\n",
        "    valor = i[-2:]\n",
        "    valor = int(valor)\n",
        "    if valor in range(30, 39):\n",
        "      deca30.append(i)\n",
        "    elif valor in range(40, 49):\n",
        "      deca40.append(i)\n",
        "    elif valor in range(50, 59):\n",
        "      deca50.append(i)\n",
        "    elif valor in range(60, 69):\n",
        "      deca60.append(i)\n",
        "    elif valor in range(70, 79):\n",
        "      deca70.append(i)  \n",
        "    elif valor in range(80, 89):\n",
        "      deca80.append(i)  \n",
        "    elif valor in range(90, 99):\n",
        "      deca90.append(i)\n",
        "    elif valor in range(10, 19):\n",
        "      deca21.append(i)\n",
        "    elif valor in range(0, 9):\n",
        "      deca20.append(i)"
      ],
      "execution_count": null,
      "outputs": []
    },
    {
      "cell_type": "code",
      "metadata": {
        "colab": {
          "base_uri": "https://localhost:8080/",
          "height": 491
        },
        "id": "rZwgLbh1GS2l",
        "outputId": "e8d0c781-01bf-44a9-cc16-c63501031948"
      },
      "source": [
        "grupos = ['36 - 39', '40 - 49', '50 - 59', '60 - 69', '70 - 79', '80 - 89', '90 - 99', '2000 - 2009', '2010 - 2019']\n",
        "valores = [len(deca30), len(deca40), len(deca50), len(deca60), len(deca70), len(deca80), len(deca90), len(deca20), len(deca21)]\n",
        "plt.figure(figsize=(20, 7), dpi=80)\n",
        "plt.bar(grupos, valores)\n",
        "plt.xlabel('fabricação de aeronaves por década', color='black', )\n",
        "plt.ylabel('Casos', color='black')\n",
        "plt.grid(True)\n",
        "plt.show()"
      ],
      "execution_count": null,
      "outputs": [
        {
          "output_type": "display_data",
          "data": {
            "image/png": "[encoded data removed]",
            "text/plain": [
              "<Figure size 1600x560 with 1 Axes>"
            ]
          },
          "metadata": {}
        }
      ]
    },
    {
      "cell_type": "markdown",
      "metadata": {
        "id": "FpASxodHGZm0"
      },
      "source": [
        "## <font color='Tomato'><b>Explicação</b></font>"
      ]
    },
    {
      "cell_type": "markdown",
      "metadata": {
        "id": "NF8iQKgvGb8q"
      },
      "source": [
        "Neste módulo iremos apresentar o ano de fabricação das aeronaves do devido tema.\n",
        "Podemos perceber pelo gráfico a seguir que o período de maior número de\n",
        "aeronaves fabricadas fora entre os anos 2000 e 2009, atingindo seu maior pico com\n",
        "mais de 1000 fabricações.<br><br>\n",
        "\n",
        "Se correlacionarmos o gráfico de fabricação de aeronaves com o de ocorrências de\n",
        "incidentes por anos, percebemos que sua alta ocorreu em 2012 e 2013, pouco\n",
        "tempo após o pico das fabricações.<br><br>\n",
        "\n",
        "Podemos perceber que a mudança entre as décadas de 60 para 70 foi uma\n",
        "mudança “brusca”, e que em diante a tendência foi ter mais aeronaves fabricadas\n",
        "devido ao avanço da tecnologia e a busca das pessoas por um transporte mais\n",
        "viável e moderno."
      ]
    },
    {
      "cell_type": "markdown",
      "metadata": {
        "id": "bkyCAHdcGsNY"
      },
      "source": [
        "## <font color='Tomato'><b>Cálculos</b></font>"
      ]
    },
    {
      "cell_type": "code",
      "metadata": {
        "colab": {
          "base_uri": "https://localhost:8080/",
          "height": 300
        },
        "id": "gMU3KZPMGwKw",
        "outputId": "8cdc465b-0ae3-44bd-fa42-e3961e0a6c30"
      },
      "source": [
        "# count: contagem das observações\n",
        "# mean: média\n",
        "# std: desvio padrão\n",
        "# min: mínimo\n",
        "# 25%: quartil Q1 (até 25%)\n",
        "# 50%: quartil Q2 (até 50%)\n",
        "# 75%: quartil Q3 (até 75%)\n",
        "# max: máximo\n",
        "\n",
        "list_ano_fabricacao = [len(deca30), len(deca40), len(deca50), len(deca60), len(deca70), len(deca80), len(deca90), len(deca20), len(deca21)]\n",
        "dataframe_fabricacao = pd.DataFrame({'Valores':list_ano_fabricacao})\n",
        "dataframe_fabricacao.describe().round(2)"
      ],
      "execution_count": null,
      "outputs": [
        {
          "output_type": "execute_result",
          "data": {
            "text/html": [
              "<div>\n",
              "<style scoped>\n",
              "    .dataframe tbody tr th:only-of-type {\n",
              "        vertical-align: middle;\n",
              "    }\n",
              "\n",
              "    .dataframe tbody tr th {\n",
              "        vertical-align: top;\n",
              "    }\n",
              "\n",
              "    .dataframe thead th {\n",
              "        text-align: right;\n",
              "    }\n",
              "</style>\n",
              "<table border=\"1\" class=\"dataframe\">\n",
              "  <thead>\n",
              "    <tr style=\"text-align: right;\">\n",
              "      <th></th>\n",
              "      <th>Valores</th>\n",
              "    </tr>\n",
              "  </thead>\n",
              "  <tbody>\n",
              "    <tr>\n",
              "      <th>count</th>\n",
              "      <td>9.00</td>\n",
              "    </tr>\n",
              "    <tr>\n",
              "      <th>mean</th>\n",
              "      <td>482.44</td>\n",
              "    </tr>\n",
              "    <tr>\n",
              "      <th>std</th>\n",
              "      <td>414.93</td>\n",
              "    </tr>\n",
              "    <tr>\n",
              "      <th>min</th>\n",
              "      <td>2.00</td>\n",
              "    </tr>\n",
              "    <tr>\n",
              "      <th>25%</th>\n",
              "      <td>37.00</td>\n",
              "    </tr>\n",
              "    <tr>\n",
              "      <th>50%</th>\n",
              "      <td>739.00</td>\n",
              "    </tr>\n",
              "    <tr>\n",
              "      <th>75%</th>\n",
              "      <td>790.00</td>\n",
              "    </tr>\n",
              "    <tr>\n",
              "      <th>max</th>\n",
              "      <td>1024.00</td>\n",
              "    </tr>\n",
              "  </tbody>\n",
              "</table>\n",
              "</div>"
            ],
            "text/plain": [
              "       Valores\n",
              "count     9.00\n",
              "mean    482.44\n",
              "std     414.93\n",
              "min       2.00\n",
              "25%      37.00\n",
              "50%     739.00\n",
              "75%     790.00\n",
              "max    1024.00"
            ]
          },
          "metadata": {},
          "execution_count": 101
        }
      ]
    },
    {
      "cell_type": "markdown",
      "metadata": {
        "id": "mgBUqsS9G-2K"
      },
      "source": [
        "# **Variável de análise: <font color='Lime'>aeronave_motor_quantidade</font>**"
      ]
    },
    {
      "cell_type": "markdown",
      "metadata": {
        "id": "Q9_K0c15HFER"
      },
      "source": [
        "## <font color='Tomato'><b>Gráfico</b></font>"
      ]
    },
    {
      "cell_type": "code",
      "metadata": {
        "colab": {
          "base_uri": "https://localhost:8080/",
          "height": 424
        },
        "id": "uQ0K_pymHH_a",
        "outputId": "c6f94cb2-011b-44a5-9a58-e453bd9cb68c"
      },
      "source": [
        "loc_list = Counter(cenipaOcorrencias['aeronave_motor_quantidade'])\n",
        "tipo2 = sorted(loc_list, key = loc_list.get, reverse = True)\n",
        "events = sorted(list(loc_list.values()), reverse = True)\n",
        "\n",
        "sns.set(style=\"whitegrid\",font_scale=1.5)\n",
        "sns.set_color_codes(\"dark\")\n",
        "fig = plt.figure(figsize=(9, 6))\n",
        "sub3 = fig.add_subplot(111)\n",
        "sns.barplot(x=events[:20], y=tipo2[:20], color='g', ax=sub3)\n",
        "texts = sub3.set(ylabel=\"Qtd. de motor\", xlabel=\"Número de ocorrências\")\n",
        "plt.tight_layout(w_pad=4, h_pad=3)"
      ],
      "execution_count": null,
      "outputs": [
        {
          "output_type": "display_data",
          "data": {
            "image/png": "[encoded data removed]",
            "text/plain": [
              "<Figure size 648x432 with 1 Axes>"
            ]
          },
          "metadata": {}
        }
      ]
    },
    {
      "cell_type": "markdown",
      "metadata": {
        "id": "m3he-HjZHTSz"
      },
      "source": [
        "## <font color='Tomato'><b>Explicação</b></font>"
      ]
    },
    {
      "cell_type": "markdown",
      "metadata": {
        "id": "YClBA9vAHW4Q"
      },
      "source": [
        "O monomotor está entre os três modelos de aviões que mais caíram no Brasil desde\n",
        "2008, segundo dados do Centro de Investigação e Prevenção de Acidentes\n",
        "Aeronáuticos (Cenipa), os modelos 3 modelos destacados são: Monomotor, Bimotor\n",
        "e sem tração.<br><br>\n",
        "\n",
        "Houve 39 mortes com o CESSNA 210, que deixou de ser fabricado na década de\n",
        "<font>1980</font>. De 2008 a 2018 houve 1.286 acidentes envolvendo aviões no país. A maioria\n",
        "dos acidentes se deve à <b>falha de motor</b> em voo e à <b>perda de controle</b> em voo.<br><br>\n",
        "\n",
        "Por curiosidade, Aviões de pequeno porte com esse tipo de motor, foi utilizado no\n",
        "acidente do falecido candidato à presidência Eduardo Campos (PSB) e a falecida\n",
        "cantora <font color='DeepPink'><b>Marilia Mendonça</b></font>. Este tipo de aeronave se envolve em mais acidentes e\n",
        "matam mais no Brasil.\n",
        "Mas, pelo menos no Brasil, são aeronaves como a de Eduardo Campos, que não\n",
        "realizam voos comerciais regulares, que respondem por 98% dos acidentes.<br><br>\n",
        "\n",
        "Exemplo do modelo:\n",
        "\n",
        "<img src='https://s2.glbimg.com/T9110C1aZJROCFQIPenON9EV3Ds=/696x390/smart/filters:cover():strip_icc()/i.s3.glbimg.com/v1/AUTH_59edd422c0c84a879bd37670ae4f538a/internal_photos/bs/2018/I/L/Ak4cBySt6ArwWDmVvTeg/queda-aviao-casa-verde-2.jpg'/><br><br>\n",
        "\n",
        "Os dados estão em um levantamento feito pelo Cenipa, órgão de investigação de\n",
        "aviação do país, com base em acidentes de 2003 a 2012.<br><br>\n",
        "\n",
        "O balanço mostra que, dos 1.026 acidentes ocorridos neste período, apenas 2%\n",
        "envolviam companhias que fazem voos regulares, com aviões maiores. A maioria\n",
        "destes acidentes foi com táxis-aéreos, aeronaves agrícolas e de instrução de voo\n",
        "\n"
      ]
    },
    {
      "cell_type": "markdown",
      "metadata": {
        "id": "Kq-fW3PTIP-z"
      },
      "source": [
        "## <font color='Tomato'><b>Cálculos</b></font>"
      ]
    },
    {
      "cell_type": "code",
      "metadata": {
        "colab": {
          "base_uri": "https://localhost:8080/"
        },
        "id": "UbYONfywIUhw",
        "outputId": "5adeb799-4b44-4380-cdcf-cefbac81254f"
      },
      "source": [
        "aero_motor_qtd = cenipaOcorrencias['aeronave_motor_quantidade']\n",
        "aero_motor_qtd_counts = aero_motor_qtd.value_counts()\n",
        "\n",
        "print('+-----------------------------+')\n",
        "print('| Média => ', round(aero_motor_qtd_counts.mean(), 2))\n",
        "print('| Moda => ', sts.mode(aero_motor_qtd))\n",
        "print('| Mediana => ', sts.median(aero_motor_qtd_counts))\n",
        "print('| Desvio padrão => ', round(sts.stdev(aero_motor_qtd_counts)))\n",
        "print('+ ----------------------------+')"
      ],
      "execution_count": null,
      "outputs": [
        {
          "output_type": "stream",
          "name": "stdout",
          "text": [
            "+-----------------------------+\n",
            "| Média =>  873.67\n",
            "| Moda =>  MONOMOTOR\n",
            "| Mediana =>  84.5\n",
            "| Desvio padrão =>  1268\n",
            "+ ----------------------------+\n"
          ]
        }
      ]
    },
    {
      "cell_type": "markdown",
      "metadata": {
        "id": "oiuo257BIiNZ"
      },
      "source": [
        "# **Variável de análise: <font color='Lime'>aeronave_fase_operacao</font>**"
      ]
    },
    {
      "cell_type": "markdown",
      "metadata": {
        "id": "owwUWkapJ_Zo"
      },
      "source": [
        "## <font color='Tomato'><b>Gráfico</b></font>"
      ]
    },
    {
      "cell_type": "code",
      "metadata": {
        "colab": {
          "base_uri": "https://localhost:8080/",
          "height": 491
        },
        "id": "hrlMro83KCg_",
        "outputId": "7d9ca161-0c22-405f-e711-b18571747cc1"
      },
      "source": [
        "fase_operacao = cenipaOcorrencias.groupby('aeronave_fase_operacao')['codigo'].count().sort_values(ascending=[False])[:10]\n",
        "fase_operacao\n",
        "\n",
        "# Plotando a quantidade de ocorrências por fase da operacao\n",
        "plt.style.use(\"ggplot\")\n",
        "fase_operacao.plot(kind='barh', subplots=True, label=\"Fase Operação\" ,figsize=(15, 7))"
      ],
      "execution_count": null,
      "outputs": [
        {
          "output_type": "execute_result",
          "data": {
            "text/plain": [
              "array([<matplotlib.axes._subplots.AxesSubplot object at 0x7f284999d310>],\n",
              "      dtype=object)"
            ]
          },
          "metadata": {},
          "execution_count": 107
        },
        {
          "output_type": "display_data",
          "data": {
            "image/png": "[encoded data removed]",
            "text/plain": [
              "<Figure size 1080x504 with 1 Axes>"
            ]
          },
          "metadata": {}
        }
      ]
    },
    {
      "cell_type": "markdown",
      "metadata": {
        "id": "phky1Q0SKWbf"
      },
      "source": [
        "## <font color='Tomato'><b>Explicação</b></font>"
      ]
    },
    {
      "cell_type": "markdown",
      "metadata": {
        "id": "e4m8R4llKcO5"
      },
      "source": [
        "Neste módulo falaremos sobre a quantidade e motivos das ocorrências por fases da\n",
        "operação.\n",
        "Com destaques para as fases de pouso e decolagem<br><br>\n",
        "\n",
        "- <b>Pouso</b>: É a fase que concentra o maior número de registros, respondendo por\n",
        "cerca de +800 no total, quando se consideram conjuntamente o pouso e a\n",
        "corrida após o pouso. Embora muitas dessas ocorrências não sejam\n",
        "catastróficas, cerca de metade delas causam danos significativos à aeronave\n",
        "e/ou lesões aos passageiros e tripulantes, e outras que resultam também em\n",
        "prejuízos e lesões a terceiros em solo. Esse acidente é caracterizado como\n",
        "overrun, que é quando a aeronave ultrapassa os limites finais da pista, é o\n",
        "acidente que o piloto não pode parar o avião antes da extremidade final.<br><br>\n",
        "- <b>Decolagem</b>: Cerca de 80% de todos os acidentes identificados durante ou\n",
        "depois da decolagem são frequentemente identificados como resultado de\n",
        "erro humano. Uma análise de 1 843 acidentes aéreos desde 1950 até 2006\n",
        "determinou as seguintes causas, excluindo-se ocorrências militares, voos\n",
        "privados e voos charters:<br><br>\n",
        "\n",
        "<b>» 53%</b>: Erro do piloto;<br>\n",
        "<b>» 21%</b>: Falhas estruturais;<br>\n",
        "<b>» 11%</b>: Clima/tempo;<br>\n",
        "<b>» 8%</b>: Outros erros humanos (erro do controle de tráfego aéreo, imperícia no\n",
        "carregamento, imperícia na manutenção, contaminação de combustível, erro de\n",
        "comunicação, etc);<br>\n",
        "<b>» 6%</b>: Sabotagem (bombas, sequestros, abatimentos);<br>\n",
        "<b>» 1%</b>: Outras causas.<br><br>\n",
        "\n",
        "As aeronaves nunca batem por causa de uma única questão. É quase sempre uma\n",
        "combinação de fatores que levam a um acidente e, portanto, é muito difícil fornecer\n",
        "estatísticas precisas sobre o que é a causa de um acidente de avião. Por exemplo,\n",
        "se a aeronave sofrer um problema técnico sério (mas que não deve resultar na\n",
        "perda de uma aeronave) e, posteriormente, é manuseado indevidamente pelos\n",
        "pilotos, resultando em um acidente, isso conta como erro piloto ou avaria mecânica?\n",
        "A ruptura mecânica por conta própria não deveria ter significado que o avião caiu,\n",
        "mas poderia ter sido manipulado corretamente pelos pilotos.<br><br>\n",
        "\n",
        "Portanto, as estatísticas das causas de falhas de aeronaves nem sempre são claras.\n",
        "Na área da aviação, isso é chamado de “Modelo de queijo suíço”. Se você imagina\n",
        "muitas fatias diferentes de queijo suíço, de diferentes blocos de queijo, todos\n",
        "alinhados um ao lado do outro, as chances são de que você não poderá ver todo o\n",
        "caminho através de um dos buracos, pois os buracos serão todos em lugares\n",
        "diferentes. Cada fatia de queijo representa um fator individual, como fadiga, mau\n",
        "tempo ou mau padrão de treinamento. Em raras ocasiões, todos os furos se alinham\n",
        "juntos, ou seja, todos os fatores se juntam para causar um acidente<br><br>\n",
        "\n",
        "<img src='https://www-flightdeckfriend-com.exactdn.com/wp-content/uploads/2017/01/e9c0a4_249e4337abdd4a329abf2770ab209430mv2.png.webp?strip=all&lossy=1&quality=80&ssl=1' />\n",
        "\n"
      ]
    },
    {
      "cell_type": "markdown",
      "metadata": {
        "id": "VlLq9C-xMFjS"
      },
      "source": [
        "## <font color='Tomato'><b>Cálculos</b></font>"
      ]
    },
    {
      "cell_type": "code",
      "metadata": {
        "colab": {
          "base_uri": "https://localhost:8080/"
        },
        "id": "BG2obeWiMKJA",
        "outputId": "d9b7400e-31bd-4cc0-9120-2e01ce98ef5a"
      },
      "source": [
        "aero_fase_operacao = cenipaOcorrencias['aeronave_fase_operacao']\n",
        "aero_fase_operacao_counts = aero_fase_operacao.value_counts()\n",
        "\n",
        "print('+-----------------------------+')\n",
        "print('| Média => ', round(aero_fase_operacao_counts.mean(), 2))\n",
        "print('| Moda => ', sts.mode(aero_fase_operacao))\n",
        "print('| Mediana => ', sts.median(aero_fase_operacao_counts))\n",
        "print('| Desvio padrão => ', round(sts.stdev(aero_fase_operacao_counts)))\n",
        "print('+ ----------------------------+')"
      ],
      "execution_count": null,
      "outputs": [
        {
          "output_type": "stream",
          "name": "stdout",
          "text": [
            "+-----------------------------+\n",
            "| Média =>  163.81\n",
            "| Moda =>  POUSO\n",
            "| Mediana =>  36.5\n",
            "| Desvio padrão =>  257\n",
            "+ ----------------------------+\n"
          ]
        }
      ]
    },
    {
      "cell_type": "markdown",
      "metadata": {
        "id": "0b8K-OP2NfZ6"
      },
      "source": [
        "# **Variável de análise: <font color='Lime'>aeronave_nivel_dano</font>**"
      ]
    },
    {
      "cell_type": "markdown",
      "metadata": {
        "id": "vVgM2wySNlCg"
      },
      "source": [
        "## <font color='Tomato'><b>Gráfico</b></font>"
      ]
    },
    {
      "cell_type": "code",
      "metadata": {
        "colab": {
          "base_uri": "https://localhost:8080/",
          "height": 424
        },
        "id": "AfuQzJFRNnm1",
        "outputId": "a58e6ee4-95da-4c00-b67f-712438e634b6"
      },
      "source": [
        "fase_count = Counter(cenipaOcorrencias['aeronave_nivel_dano'])\n",
        "fase = sorted(fase_count, key = fase_count.get, reverse = True)\n",
        "count = sorted (list(fase_count.values()), reverse = True)\n",
        "\n",
        "sns.set(style=\"whitegrid\",font_scale=1.5)\n",
        "fig = plt.figure(figsize=(12, 6))\n",
        "sub3 = fig.add_subplot(111)\n",
        "sns.barplot(x=count[:20], y=fase[:20], color='b', ax=sub3)\n",
        "texts = sub3.set(ylabel=\"Nível de dano\", xlabel=\"Casos\")\n",
        "plt.tight_layout(w_pad=4, h_pad=3)"
      ],
      "execution_count": null,
      "outputs": [
        {
          "output_type": "display_data",
          "data": {
            "image/png": "[encoded data removed]",
            "text/plain": [
              "<Figure size 864x432 with 1 Axes>"
            ]
          },
          "metadata": {}
        }
      ]
    },
    {
      "cell_type": "markdown",
      "metadata": {
        "id": "QOooUZhSNry_"
      },
      "source": [
        "## <font color='Tomato'><b>Explicação</b></font>"
      ]
    },
    {
      "cell_type": "markdown",
      "metadata": {
        "id": "l93ugq3yNuAp"
      },
      "source": [
        "Neste módulo, iremos ver os níveis de dano na aeronave, qual a intensidade sobre\n",
        "elas e o que foi constatado depois da averiguação do Cenipa( Centro de\n",
        "Investigação e prevenção de Acidentes aeronáuticos).<br><br>\n",
        "\n",
        "Como vimos em alguns documentos anteriores, os Acidentes aéreos podem ser\n",
        "ocasionados por N motivos, desde o mais simples problema como uma poça d’água\n",
        "na pista, como uma falha de grau alto por exemplo falha no motor ou asa. E em\n",
        "nenhuma das hipóteses gostaríamos de passar por uma situação dessa, não é\n",
        "mesmo? Entretanto as aeronaves ainda são construídas e comandas por seres\n",
        "humanos, e é inevitável que ocorra acidentes o tempo todo, apesar de ser o meio de\n",
        "locomoção considerado o mais seguro do mundo.<br><br>\n",
        "\n",
        "Como podemos ver no gráfico, o nível de dano que aparece é nenhum ou seja, na\n",
        "maioria dos voos realizados por diversas empresas de transporte aéreo ao longo\n",
        "fosse anos, a maioria consegue êxito em seu planejamento e realização. Abaixo\n",
        "temos o os valores sobre grau leve, que chegam até 1.500 aeronaves com o nível de\n",
        "dano leve, sendo eles (ex: uma colisão ocasionada por um pequeno problema, mas\n",
        "que não resultou em mortes ou avarias tão graves). <br><br>\n",
        "\n",
        "Temos o dano Substancial, no qual chega a 1.500 aeronaves, que se aplica à uma\n",
        "estrutura danificada em determinada área, apesar de parecer algo mínimo quando\n",
        "falamos em aviões destruídos, o dano Substancial deve ser considerado grave ( ex:\n",
        "um avião se choca em um determinado objeto sendo ele no chão em altitude, e leva\n",
        "uma avaria em suas asas, é o bastante para o piloto perder o controle e acabar \n",
        "colidindo ao solo) o que levaria pessoas a morte ou sérios danos aos ser humano. E\n",
        "por último, temos o termo destruída, que faz jus ao seu nome, seria quando a\n",
        "aeronave se colide no ar ou ao solo, e acaba sendo totalmente danificada ou\n",
        "podemos usar o termo “destroçada”. Esse tipo de acidente tem aproximadamente\n",
        "260 á 270 casos, aparenta ser pouco não é mesmo? Porém, levando em conta que\n",
        "nesse tipo de ocorrência á milhares de pessoas utilizando o transporte, acaba sendo\n",
        "um grande desastre.<br><br>\n",
        "\n",
        " Por fim, vimos nesse módulo a quantidade de acidentes por seu nível de dano,\n",
        "suas interferências do porque acaba acontecendo e dando ao leitor uma breve\n",
        "explicação sobre o tema realizado."
      ]
    },
    {
      "cell_type": "markdown",
      "metadata": {
        "id": "5pzzaj-8OE9F"
      },
      "source": [
        "## <font color='Tomato'><b>Cálculos</b></font>"
      ]
    },
    {
      "cell_type": "code",
      "metadata": {
        "colab": {
          "base_uri": "https://localhost:8080/"
        },
        "id": "DJoCWVZeOLUd",
        "outputId": "996016a4-afd6-4166-b146-1a084da84847"
      },
      "source": [
        "aero_nivel_dano = cenipaOcorrencias['aeronave_nivel_dano']\n",
        "aero_nivel_dano_counts = aero_nivel_dano.value_counts()\n",
        "\n",
        "print('+-----------------------------+')\n",
        "print('| Média => ', round(aero_nivel_dano_counts.mean(), 2))\n",
        "print('| Moda => ', sts.mode(aero_nivel_dano))\n",
        "print('| Mediana => ', sts.median(aero_nivel_dano_counts))\n",
        "print('| Desvio padrão => ', round(sts.stdev(aero_nivel_dano_counts)))\n",
        "print('+ ----------------------------+')"
      ],
      "execution_count": null,
      "outputs": [
        {
          "output_type": "stream",
          "name": "stdout",
          "text": [
            "+-----------------------------+\n",
            "| Média =>  1048.4\n",
            "| Moda =>  NENHUM\n",
            "| Mediana =>  1515\n",
            "| Desvio padrão =>  804\n",
            "+ ----------------------------+\n"
          ]
        }
      ]
    },
    {
      "cell_type": "markdown",
      "metadata": {
        "id": "j2CY8euUOhWa"
      },
      "source": [
        "# <b>CORRELAÇÕES ENTRE VARIÁVEIS <br><font color='Crimson'>estado + tipo</font><br><font color='Crimson'>estado + aeronave_liberada</font></b>"
      ]
    },
    {
      "cell_type": "markdown",
      "metadata": {
        "id": "Po9kq1FqPse7"
      },
      "source": [
        "## <font color='Tomato'><b>Gráfico</b></font>"
      ]
    },
    {
      "cell_type": "code",
      "metadata": {
        "id": "BD7wZNdgPcmF"
      },
      "source": [
        "dic_regioes = {'Nordeste': ['AL', 'BA', 'CE', 'MA', 'PB', 'PE', 'PI', 'RN', 'SE'],\n",
        "                'Norte': ['AM', 'RR', 'AP', 'PA', 'TO', 'RO', 'AC'],\n",
        "                'Centro Oeste': ['MT', 'MS', 'GO'], \n",
        "                'Sudeste': ['SP', 'RJ', 'ES', 'MG'],\n",
        "                'Sul': ['PR', 'RS', 'SC']}\n",
        "tipos = ['ACIDENTE', 'INCIDENTE']\n",
        "\n",
        "dic_01 = {i: [ len([k for k in list(cenipaOcorrencias.loc[cenipaOcorrencias['tipo'] == i, ['estado']]['estado'])\n",
        "                    if k in dic_regioes[j]]) for j in dic_regioes.keys()] for i in tipos}\n",
        "\n",
        "dic_01['tipo'] = list(dic_regioes.keys())\n",
        "dados_regioes = pd.DataFrame(dic_01)"
      ],
      "execution_count": null,
      "outputs": []
    },
    {
      "cell_type": "code",
      "metadata": {
        "colab": {
          "base_uri": "https://localhost:8080/",
          "height": 643
        },
        "id": "lGm0kTe3Ph3B",
        "outputId": "e5956661-1f9b-48d4-f254-39343cbf346b"
      },
      "source": [
        "def numero_em_cima(rects, ax):\n",
        "    for rect in rects:\n",
        "        height = rect.get_height()\n",
        "        ax.annotate('{}'.format(height),\n",
        "                    xy=(rect.get_x() + rect.get_width() / 2, height),\n",
        "                    xytext=(0, 3),  \n",
        "                    textcoords=\"offset points\",\n",
        "                    ha='center', va='bottom')\n",
        "\n",
        "x = np.arange(5)\n",
        "width = 0.35\n",
        "\n",
        "fig, ax = plt.subplots(figsize=(15,10))\n",
        "\n",
        "rects1 = ax.bar(x - width/2, dados_regioes['ACIDENTE'], width, label='ACIDENTE')\n",
        "rects2 = ax.bar(x + width/2, dados_regioes['INCIDENTE'], width, label='INCIDENTE')\n",
        "\n",
        "ax.set_ylabel('Ocorrências')\n",
        "ax.set_title('REGIÕES\\nACIDENTE vs INCIDENTE', )\n",
        "ax.set_xticks(x)\n",
        "ax.set_xticklabels(dados_regioes['tipo'])\n",
        "ax.legend()\n",
        "\n",
        "numero_em_cima(rects1, ax)\n",
        "numero_em_cima(rects2, ax)\n",
        "plt.legend(fontsize=12)\n",
        "plt.show()"
      ],
      "execution_count": null,
      "outputs": [
        {
          "output_type": "display_data",
          "data": {
            "image/png": "[encoded data removed]",
            "text/plain": [
              "<Figure size 1080x720 with 1 Axes>"
            ]
          },
          "metadata": {}
        }
      ]
    },
    {
      "cell_type": "code",
      "metadata": {
        "colab": {
          "base_uri": "https://localhost:8080/",
          "height": 643
        },
        "id": "Gvyq4wuuPmFz",
        "outputId": "3070a0df-6a00-4765-a2b8-8980714faac3"
      },
      "source": [
        "tipos = ['SIM', 'INDETERMINADO']\n",
        "\n",
        "dic_01 = {i: [ len([k for k in list(cenipaOcorrencias.loc[cenipaOcorrencias['aeronave_liberada'] == i, ['estado']]['estado'])\n",
        "                    if k in dic_regioes[j]]) for j in dic_regioes.keys()] for i in tipos}\n",
        "\n",
        "dic_01['aeronave_liberada'] = list(dic_regioes.keys())\n",
        "dados_regioes = pd.DataFrame(dic_01)\n",
        "dados_regioes\n",
        "\n",
        "x = np.arange(5)\n",
        "width = 0.35\n",
        "\n",
        "fig, ax = plt.subplots(figsize=(15,10))\n",
        "\n",
        "rects1 = ax.bar(x - width/2, dados_regioes['SIM'], width, label='SIM')\n",
        "rects2 = ax.bar(x + width/2, dados_regioes['INDETERMINADO'], width, label='INDETERMINADO')\n",
        "\n",
        "ax.set_ylabel('Ocorrências')\n",
        "ax.set_title('REGIÕES\\nSIM vs INDETERMINADO', )\n",
        "ax.set_xticks(x)\n",
        "ax.set_xticklabels(dados_regioes['aeronave_liberada'])\n",
        "ax.legend()\n",
        "\n",
        "numero_em_cima(rects1, ax)\n",
        "numero_em_cima(rects2, ax)\n",
        "plt.legend(fontsize=12)\n",
        "plt.show()"
      ],
      "execution_count": null,
      "outputs": [
        {
          "output_type": "display_data",
          "data": {
            "image/png": "[encoded data removed]",
            "text/plain": [
              "<Figure size 1080x720 with 1 Axes>"
            ]
          },
          "metadata": {}
        }
      ]
    },
    {
      "cell_type": "markdown",
      "metadata": {
        "id": "VmH9K4D_P6iu"
      },
      "source": [
        "## <font color='Tomato'><b>Explicação -> tomada de decisão</b></font>"
      ]
    },
    {
      "cell_type": "markdown",
      "metadata": {
        "id": "zeQ9BE1ZP-ft"
      },
      "source": [
        "Correlação significa relação mútua entre dois termos. Correlacionar, portanto,\n",
        "significa estabelecer uma relação. Dessa forma, o método de correlação linear, é\n",
        "utilizado para estudar o comportamento conjunto de duas variáveis quantitativas.<br><br>\n",
        "\n",
        "Estudar a correlação entre variáveis é uma importante fonte para o entendimento de\n",
        "um problema e uma maneira de encontrar possíveis soluções e tomar decisões.\n",
        "Existem maneiras distintas de estudar o comportamento conjunto entre duas\n",
        "variáveis. Uma forma bastante funcional é a plotagem de um diagrama de dispersão,\n",
        "onde visualmente se observa a relação entre as variáveis. No entanto, utilizando\n",
        "apenas recursos visuais a única coisa que podemos observar é a relação entre as\n",
        "variáveis.\n",
        "<br><br>\n",
        "\n",
        "Quando medimos duas variáveis relacionadas a um mesmo problema, geralmente\n",
        "estamos interessados no estudo da relação entre as variáveis.\n",
        "<br><br>\n",
        "\n",
        "A ideia é tentar encontrar alguma relação dessas variáveis. Encontrando esta\n",
        "relação podemos encontrar uma maneira de melhorar a tomada de decisões, no\n",
        "caso do nosso projeto.<br><br>\n",
        "\n",
        "No nosso projeto, fizemos dois gráficos correlacionando algumas variáveis que\n",
        "achamos que se relacionam e podem trazer informações que melhore a tomada de\n",
        "decisão para o futuro, com relação aos acidentes aéreos.\n",
        "<br><br>\n",
        "\n",
        "Analisando o gráfico 1, podemos perceber que a maioria dos incidentes e acidentes\n",
        "aéreos ocorreram na região sudeste do Brasil.<br><br>\n",
        "\n",
        "Analisando o gráfico 2, também existe uma falta de administração maior que nos\n",
        "outros estados visto que existem mais casos de aeronaves que não se sabe ao certo\n",
        "se foram liberadas ou não.<br><br>\n",
        "\n",
        "Procurando uma resposta para os fatos, São Paulo figura como o Estado em que mais\n",
        "se registrou acidentes aéreos nesse período. A maior causa dos acidentes é por \n",
        "Operação a baixa altitude, de acordo com o Cenipa (Centro de Investigação e\n",
        "Prevenção de Acidentes Aeronáuticos). Operação a baixa altitude trata-se de uma\n",
        "colisão ou quase-colisão com obstáculos, objetos e terreno durante operação próxima\n",
        "da superfície, exceto nas fases de decolagem e pouso. Os voos a baixa altitude são\n",
        "realizados em demonstração aérea, busca e salvamento e aplicação de defensivos\n",
        "agrícolas.<br><br>\n",
        "\n",
        "De acordo com a base de dados do IPTU de 2017, da Prefeitura de São Paulo, a\n",
        "capital paulista tem 53 mil prédios, além de ser uma das cidades com as principais\n",
        "rotas do país.<br><br>\n",
        "\n",
        "Quando se está em alta altitude, o tempo de reação para um problema é maior, a\n",
        "velocidade da aeronave é maior. Quando se está em baixa altitude, é o contrário. A\n",
        "velocidade é menor, assim como o tempo de reação. Por isso, é mais difícil de\n",
        "controlar a situação nesses momentos.<br><br>\n",
        "\n",
        "Para pensar em diminuir os problemas apresentados nos gráficos e auxiliar na tomada\n",
        "de decisão, seria viável uma melhor administração dos registros de liberação de\n",
        "aeronaves, e também rever melhores rotas para sobrevoar a região, visto que, foram\n",
        "feitas há bastante tempo, e, com a verticalização da própria região, algumas rotas\n",
        "podem estar com conflitos e mais difíceis de serem sobrevoadas.<br><br>\n"
      ]
    },
    {
      "cell_type": "markdown",
      "metadata": {
        "id": "aDeGTuhdRr43"
      },
      "source": [
        "# <b><font color='MediumTurquoise'>BREVE INTRODUÇÃO DAS BIBLIOTECAS </font></b>"
      ]
    },
    {
      "cell_type": "markdown",
      "metadata": {
        "id": "9rMqZCp6SJp_"
      },
      "source": [
        "1. <font color='Tomato'><b>PANDAS</b></font>\n",
        "\n",
        "Pandas é uma das bibliotecas mais usadas, dentro da Data Science, do python. Se \n",
        "estiver se perguntando do porquê, talvez, não a conhecer, te digo: Existem mais de \n",
        "137.000 bibliotecas e 198.826 pacotes de Python disponíveis para simplificar a \n",
        "programação. Quem não trabalha com ciência de dados, pode parecer novidade.<br><br>\n",
        "\n",
        "<font color='Gold'>**ESTRUTURA DE DADOS**</font><br><br>\n",
        "\n",
        "Os dois objetos basilares da biblioteca Pandas são as series e os DataFrames.\n",
        "Uma série pode ser chamada também de matriz unidimensional, bastante parecida \n",
        "como uma coluna do Excel\n",
        "Se tratando do DataFrame, ele já é mais parecido com a estrutura de planilha do \n",
        "excel, ou seja, suas linhas e colunas possuem rótulos.<br><br>\n",
        "\n",
        "<img src='https://harve.com.br/wp-content/uploads/2021/05/Series-e-dataframe-pandas-python-768x959.png.webp' width='400' height='500'/><br><br>\n",
        "\n",
        "Imagine que você tenha um arquivo CSV contendo inúmeros registros, como \n",
        "aconteceu no tema usado em nosso trabalho (Ocorrências CENIPA), você irá \n",
        "precisar agrupar, filtrar, contabilizar, etc. Com esta biblioteca você não só pode fazer \n",
        "isso, mas consegue de maneira muito simples. Veremos abaixo alguns comandos \n",
        "que usamos em nosso projeto e o que podemos obter de resultado.<br>\n",
        "<img src='https://i.imgur.com/sBnz7vb.png' /><br>\n",
        "Com o read_csv, podemos indicar onde está o nosso arquivo para podermos jogar \n",
        "todos os milhares de informações, tudo dentro de uma variável.<br><br>\n",
        "Em seguida, com um simples comando, obtivemos um gráfico com linhas e colunas \n",
        "que, claro, trazendo somente os 5 primeiros registros para um pré-visualização do \n",
        "que temos lá.<br>\n",
        "<img src='https://i.imgur.com/3Dllhrh.png' /><br><br>\n",
        "<b>COMANDOS ADICIONAIS</b><br>\n",
        "Um próximo comando usado foi o value_counts(). Bem, o próprio nome já entrega a funcionalidade. Esclarecendo de maneira breve, imagine uma lista contendo valores repetidos, com esta função do Pandas, podemos somar todas as vezes que apareceu aquela palavra ou número. Sabendo disso, você já deve imaginar que usamos isso em quase todos os gráficos, certo? Se pensou, você está correto!<br><br> \n",
        "\n",
        "Vamos ver agora um comando muito poderoso desta biblioteca: <b>describe().</b> Quer ter alguns cálculos importantes, de maneira rápida? Use este comando. Coloque como parâmetro uma lista de números. Ok, mas quais números? Lembra do <b>value_counts?</b> Podemos utilizar para somar as repetições que contém numa determinada coluna, e, portanto, jogar no describe.<br>\n",
        "<img src='https://i.imgur.com/6MgwK1K.png' /><br><br>\n",
        "\n",
        "Aqui, obtemos o resultado dos cálculos da soma de INCIDENTES, ACIDENTES E INCIDENTES GRAVES. Mas o que significa, por exemplo, <b>std?</b> Veja agora um pequeno dicionário de cada um: <br><br>\n",
        "\n",
        "- count: contagem das observações<br> \n",
        "- mean: média<br> \n",
        "- std: desvio padrão<br> \n",
        "- min: mínimo<br> \n",
        "- 25%: quartil Q1 (até 25%)<br> \n",
        "- 50%: quartil Q2 (até 50%)<br>\n",
        "- 75%: quartil Q3 (até 75%)<br> \n",
        "- max: máximo<br><br> \n",
        "\n",
        "Caminhando somente na superfície, será que aqui já deu pra mostrar o quão poderoso é esta ferramenta (Pandas)?<br><br>\n",
        "\n",
        "2. <font color='Tomato'><b>SEABORN</b></font>\n",
        "<br><br>\n",
        "\n",
        "<b>Seaborn</b> é uma biblioteca de visualização de dados Python baseada em matplotlib (Que iremos ver no tópico 3). Podemos dizer que se trata de uma biblioteca que pode cuidar, especificamente, do estilo do gráfico. Ela fornece uma interface de alto nível para desenhar gráficos estatísticos atraentes e informativos. Poderíamos estilizar todos os gráficos com a própria <b>matplotlib.pyplot</b>, que foi a qual mais utilizamos. Mas para fins de aprendizagem, mesclamos com essa, pois assim nós conhecemos mais e, portanto, podemos trazer a vocês.<br>\n",
        "\n",
        "<img src='https://i.imgur.com/1BbJu8S.png'/><br><br>\n",
        "\n",
        "Vamos mencionar aqui os 3 comandos que colocamos neste gráfico, referente à SEABORN, e entender o que cada um faz.<br><br> \n",
        "\n",
        "- sns.set(style=\"whitegrid\", font_scale=1.5)<br> \n",
        "- sns.set_color_codes(\"dark\")<br>\n",
        "- sns.barplot()<br><br> \n",
        "\n",
        "Dentro do Set(), podemos colocar diversos parâmetros para editar as propriedades do gráfico.<br><br>  \n",
        "\n",
        "Já no Set_color_codes(), refere-se a Paleta de origem marinha nomeada para ser usada como fonte de cores das barras. Temos outras, também: deep, muted, pastel, dark, bright, colorblind.<br><br> \n",
        "\n",
        "Por último: barplot(). Mostra estimativas de pontos e intervalos de confiança como barras retangulares. \n",
        "Sendo x, y, as principais: nomes de matiz de variáveis em dados vetoriais, opcional<br><br>\n",
        "\n",
        "3. <font color='Tomato'><b>MATPLOTLIB.PYPLOT</b></font>\n",
        "<br><br>\n",
        "\n",
        "Agora entramos, no que eu costumo dizer, a prática da brincadeira, isto é, após a coleta de dados, ter filtrado e ajustado como queremos realizar a análise, com essa biblioteca, iremos criar os gráficos. Eu sei, você quer entrar de cabeça nos códigos e poder visualizar a mágica acontecer. Mas antes, vamos conhecer, e prometo ser breve, a parte conceitual.<br><br> \n",
        "\n",
        "Quando estamos apresentando resultados, além dos números, podemos nos utilizar de outros elementos para passar melhor a mensagem. Uma boa forma de apresentar dados é utilizando a biblioteca <b>matplotlib</b>.<br>\n",
        "<img src='https://i.imgur.com/l1lidMZ.png'><br><br>\n",
        "\n",
        "Esta planilha acima é agradável de visualizar se há quedas ou se obtivemos lucro? Olha, se tratando de poucas variáveis, pode ser que seja simples, mas concorda que é um trabalho braçal? E com isso, podemos ir mais além: pegar mais meses, ou separar por semanas e até dias, dependendo do escopo do seu negócio. Como você faria essa análise? Se for manual, declara-se falido, pois até tivermos todos os resultados talvez seja tarde. Mas não com matplotlib. Podemos com ela, alcançar de pequenos a grandes gráficos. Ah! e um detalhe: sem muita enrolação.<br><br>  \n",
        "\n",
        "meses = <b>['Janeiro', 'Fevereiro', 'Março', 'Abril', 'Maio', 'Junho']</b><br> \n",
        "valores = <b>[105235, 107697, 110256, 109236, 108859, 109986]</b> \n",
        "<br><br>\n",
        "\n",
        "Inserimos, nas duas listas acima, os valores respectivos. Ok, você pode estar falando, agora, que trocamos 6 por meia dúzia, já que inserimos de maneira manual os valores. Apenas para métodos didáticos.<br><br>\n",
        "\n",
        "<b>matplotlib.pyplot.plot</b>(meses, valores)<br> \n",
        "isto é, plote y versus x como linhas e / ou marcadores. Mas não só isso, O plot é um método bem poderoso que permite a definição de vários parâmetros, como a cor da linha, o tipo de marca utilizada em cada ponto, tipo da linha, etc.<br><br> \n",
        "\n",
        "<b>matplotlib.pyplot.show()</b><br><br> \n",
        "\n",
        "Este, portanto, seria o comando final. Sinalizando para mostrar a tabela \n",
        "<br>\n",
        "<img src='https://i.imgur.com/jy5yCG8.png' /><br><br>\n",
        "\n",
        "Doido, né? Com poucos e simples códigos, conseguimos exibir um gráfico e obter uma visualização bem mais limpa.<br> \n",
        "\n",
        "Acredite, eu tirei água do oceano com um balde pequeno. Essa ferramenta é um universo. <br><br>\n",
        "\n",
        "<font color='Gold'><b>APLICAÇÕES</b></font>\n",
        "<br><br> \n",
        "\n",
        "Iremos mostrar algumas funções que usamos em nosso desenvolvimento e o resultado que tivemos com isso<br><br> \n",
        "\n",
        "plt.figure(figsize=(8, 6), dpi=80)<br>\n",
        "plt.bar(grupos, valores)<br> \n",
        "plt.xlabel('Períodos do dia', color='black', )<br> \n",
        "plt.ylabel('Casos', color='black')<br> \n",
        "plt.grid(False)<br> \n",
        "plt.show()<br><br> \n",
        "\n",
        "Em nosso gráfico onde levantamos o período do dia onde acontecem mais acidentes, utilizamos, num determinado momento, os códigos acima. Vamos entender cada um?<br><br>\n",
        "\n",
        "<b>Figure</b>=()<br> \n",
        "Largura, altura em polegadas. <br><br>\n",
        "\n",
        "<b>Dpi</b>=80<br> \n",
        "A resolução da figura em pontos por polegada. <br><br>\n",
        "\n",
        "Logo abaixo temos a função bar que recebemos os grupos (manhã, tarde, noite, madrugada) e os valore, respectivamente.<br><br> \n",
        "\n",
        "Xlabel e Ylabel, sendo os títulos representantes de cada vetor<br><br> \n",
        "\n",
        "Grid(false) é basicamente uma grade de fundo para elucidar bem as barras e seus valores. Não são somente valores Booleanos, indicando true, você pode mencionar alguns tipos, basta checar a documentação. <br><br>\n",
        "\n",
        "E, novamente, o show.<br><br> \n",
        "\n",
        "E assim tivemos o seguinte gráfico: <br>\n",
        "<img src='https://i.imgur.com/QAofMCH.png' /><br><br>\n",
        "\n",
        "Vamos, por final, mostrar um gráfico de pizza, que acaba sendo até mais simples.<br><br> \n",
        "\n",
        "<font color='LightGreen'>Dados em números na parte Externa</font>\n",
        "<br> \n",
        "recipe = [incidente.count(\"INCIDENTE\"), acidente.count(\"ACIDENTE\"), incidenteGrave.count(\"INCIDENTE GRAVE\")]<br><br> \n",
        "\n",
        "<font color='LightGreen'>Gráfico</font> \n",
        "<br>\n",
        "grafico = cenipaOcorrencias['tipo'].value_counts().plot(kind='pie', label=\"\", fontsize = 17, shadow=True, autopct='%1.1f%%',figsize=(7,7)) \n",
        "<br><br>\n",
        "grafico.legend(recipe)grafico.set_title(\"Tipos de acidentes\")\n",
        "<br><br>\n",
        "\n",
        "Vamos entender o que é cada um aí. <br><br>\n",
        "\n",
        "Na variável recipe, que é uma lista, estamos armazenando os valores da quantidade de acidentes, incidentes e incidentes graves. Apenas para servir como legenda em <b>legend()</b>. \n",
        "<br>\n",
        "O principal mesmo está na variável gráfico. Nela, está ocorrendo um <b>value_counts()</b>, isto é, ele irá somar todas as vezes que aparece a string ‘INCIDENTE’, por exemplo.<br><br>  \n",
        "\n",
        "Logo em seguida, ele plota o gráfico colocando algumas características nele. <b>Kind=’pie’</b> indica que será redonda (ou como chamamos aqui: pizza).  \n",
        "<br>\n",
        "Indicando o tamanho das palavras/números com fontsize (pra quem já estudou css consegue ver similaridades).  \n",
        "<br><br>\n",
        "<b>Shadow=true</b> indica que haverá uma leve sombra (você verá quando mostrarmos).  \n",
        "<br><br>\n",
        "<b>autopct</b> quer dizer para colocar as porcentagens dos respectivos valores.  \n",
        "<br><br>\n",
        "\n",
        "E como já havíamos visto antes, <b>figsize</b>: destinando o seu tamanho. \n",
        "<br>\n",
        "O resultado, portanto: <br>\n",
        "<img src='https://i.imgur.com/wXNuzA2.png' /><br><br>\n",
        "\n",
        "Apesar de deixarmos as referências logo abaixo, atenta-se que as principais informações estão na própria documentação: <br>\n",
        "\n",
        "https://matplotlib.org/stable/api/_as_gen/matplotlib.pyplot.html <br>"
      ]
    },
    {
      "cell_type": "markdown",
      "metadata": {
        "id": "Oxc9kpOYVLy3"
      },
      "source": [
        "# <b><font color='LightSlateGray'>REFERÊNCIAS</font></b>"
      ]
    },
    {
      "cell_type": "markdown",
      "metadata": {
        "id": "32xoWAc7ViKf"
      },
      "source": [
        "Guilherme Werneck. **MOKI**. 26 de fevereiro de 2021. **Qual a diferença entre\n",
        "acidente e incidente? Veja cada definição**. Disponível em:\n",
        "< https://site.moki.com.br/diferenca-acidente-incidente/ >. Acesso em 22 nov. 2021.<br><br>\n",
        "\n",
        "Redação Super. **Superinteressante**. 6 de novembro de 2019. **O maior acidente\n",
        "aéreo de todos os tempos**. Disponível em: < https://super.abril.com.br/historia/omaior-acidente-aereo-de-todos-os-tempos/ >. Acesso em 26 nov. 2021.<br><br>\n",
        "\n",
        "**ACIDENTES E INCIDENTES AÉREOS**. In: **WIKIPÉDIA**, a enciclopédia livre. Flórida:\n",
        "Wikimedia Foundation, 2021. Disponível em: <\n",
        "https://pt.wikipedia.org/wiki/Acidentes_e_incidentes_a%C3%A9reos >. Acesso em:\n",
        "18 nov. 2021.<br><br>\n",
        "\n",
        "MURILO BASSETO. **Aeroin**. 15 de outubro de 2021. **Motor de Boeing 767 falha na\n",
        "decolagem e incidente fecha o aeroporto por horas**. Disponível em: <\n",
        "https://www.aeroin.net/motor-de-boeing-767-falha-na-decolagem-e-incidente-fechao-aeroporto-por-horas/ >. Acesso em 11 nov. 2021.<br><br>\n",
        "\n",
        "JULIANO GIANOTTO. **Aeroin**. 5 de novembro de 2021. **Pilotos desviam voo por\n",
        "falta de combustível, mas avião não chega ao aeroporto escolhido**. Disponível\n",
        "em: < https://www.aeroin.net/pilotos-desviam-voo-por-falta-de-combustivel-masaviao-nao-chega-ao-aeroporto-escolhido/ >. Acesso em 12 nov. 2021.<br><br>\n",
        "\n",
        "Alexandre Saconi. **Uol**. 20 de julho de 2019. **Como funciona a investigação de um\n",
        "acidente aéreo?** Disponível em: <\n",
        "https://economia.uol.com.br/noticias/redacao/2019/07/20/investigacao-acidenteaereo-caixa-preta.htm >. Acesso em 23 nov. 2021.<br><br>\n",
        "\n",
        "Carlos Ferreira. **Aeroin**. 29 de maio de 2021. **Piloto dorme durante voo e acorda a\n",
        "110 quilômetros do destino original**. Disponível em: <\n",
        "https://www.aeroin.net/piloto-dorme-durante-voo-e-acorda-a-110-quilometros-dodestino-original/ >. Acesso em: 19 nov. 2021.<br><br>\n",
        "\n",
        "sem autor. **LIBERFLY**. 23 de agosto de 2021. **Quais são os melhores horários\n",
        "para viajar?** Disponível em: < https://blog.liberfly.com.br/melhores-horarios-paraviajar/ >. Acesso em: 17 nov. 2021.<br><br>\n",
        "\n",
        "Marcos Pivetta. **Pesquisa FAPESP**. ago. 2009. **O risco dos corujões**. Disponível\n",
        "em: < https://revistapesquisa.fapesp.br/o-risco-dos-corujoes/ >. Acesso em 23 nov.\n",
        "2021.<br><br>\n",
        "\n",
        "sem autor. **Jato**. **Turboélice ou Pistão? Saiba como escolher sua aeronave**.\n",
        "Disponível em: < https://www.chamoneaviacao.com.br/jato-turboelice-ou-pistaosaiba-como-escolher-sua-aeronave/ >. Acesso em 20 nov. 2021.<br><br>\n",
        "\n",
        "sem autor. **Blog Hangar33**. 19 de fevereiro de 2019. **A IMPORTÂNCIA DA\n",
        "MANUTENÇÃO PREVENTIVA EM MOTORES A PISTÃO**. Disponível em: <\n",
        "http://blog.hangar33.com.br/a-importancia-da-manutencao-preventiva-em-motores-apistao/ >. Acesso em 20 nov. 2021.<br><br>\n",
        "\n",
        "Por G1. **G1**. 30 de novembro de 2018. **Modelo de avião como o que caiu em SP é\n",
        "um dos que mais se acidentam no Brasil**. Disponível em: <\n",
        "https://g1.globo.com/sp/sao-paulo/noticia/2018/11/30/aviao-que-caiu-no-campo-demarte-e-um-cessna-c210-fabricado-em-1980.ghtml >. Acesso em 13 nov. 2021.<br><br>\n",
        "\n",
        "Luiza Bandeira. **BBC**. 13 de agosto de 2014. **Acidentes com aviões pequenos são\n",
        "mais frequentes e matam mais no Brasil**. Disponível em: <\n",
        "https://www.bbc.com/portuguese/noticias/2014/08/140813_aviao_pequeno_lab >.\n",
        "Acesso em 13 nov. 2021.<br><br>\n",
        "\n",
        "MURILO BASSETO. **Aeroin**. 27 de agosto de 2021. **Entre os 10 maiores\n",
        "aeroportos do país, Brasília, Congonhas e Confins sobem em julho**. Disponível\n",
        "em: <\n",
        "https://www.aeroin.net/entre-os-10-maiores-aeroportos-do-pais-brasilia-congonhase-confins-sobem-em-julho/ >. Acesso em 15 nov. 2021.<br><br>\n",
        "\n",
        "Juliana Monaco. **Panrotas**. 23 de março de 2021. **São Paulo é o Estado que mais\n",
        "recebeu estrangeiros em 2019**. Disponível em: < \n",
        "https://www.panrotas.com.br/mercado/pesquisas-e-estatisticas/2021/03/sao-paulo-eo-estado-que-mais-recebeu-estrangeiros-em-2019_180443.html >. Acesso em 27\n",
        "nov. 2021.<br><br>\n",
        "\n",
        "sem autor. **flightdeckfriend**, **WHY DO PLANES CRASH?** Disponível em: <\n",
        "https://www.flightdeckfriend.com/ask-a-pilot/why-do-planes-crash/ >. Acesso em 27\n",
        "nov. 2021.<br><br>\n",
        "\n",
        "Fernanda Favorito. **Jusbrasil**. 17 de agosto de 2014. **A atividade física adaptada\n",
        "no continente sul-americano**.\n",
        "Disponível em: <http:://www.rc.unesp.br/ib/efisica/\n",
        "sobama/sobamaorg/atividadefisica.pdf>.\n",
        "Acesso em: 26 nov. 2021.<br><br>\n",
        "\n",
        "Sérgio Figueiredo. **PVEJAP**. 1 de dezembro de 2020. **PApós 20 meses e dois\n",
        "acidentes fatais, o Boeing 737 Max voltará a voar**P. Disponível em: <\n",
        "https://veja.abril.com.br/tecnologia/apos-20-meses-e-dois-acidentes-fatais-o-boeing737-max-voltara-a-voar/ >. Acesso em 28 nov. 2021.<br><br>\n",
        "\n",
        "Bruna Mulinari. **HARVE**.  24 de maio de 2021. **Pandas Python: vantagens e como começar**. Disponível em: < https://harve.com.br/blog/programacao-python-blog/pandas-python-vantagens-e-como-comecar/ >. Acesso em 29 nov. 2021. <br><br>\n",
        "\n",
        "Yuri Matheus. **ALURA**. 27 de novembro de 2021. **Matplotlib uma biblioteca Python para gerar gráficos interessantes**. Disponível em: < https://www.alura.com.br/artigos/criando-graficos-no-python-com-a-matplotlib >. Acesso em 29 nov. 2021.<br> \n"
      ]
    }
  ]
}